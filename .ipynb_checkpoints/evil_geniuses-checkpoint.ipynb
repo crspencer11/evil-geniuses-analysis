{
 "cells": [
  {
   "cell_type": "code",
   "execution_count": 88,
   "id": "1d4c2a43-b77c-4e38-bf0d-d110bff58fa3",
   "metadata": {},
   "outputs": [],
   "source": [
    "# import necessary libraries\n",
    "import pandas as pd\n",
    "import numpy as np\n",
    "import matplotlib.pyplot as plt\n",
    "import seaborn as sns"
   ]
  },
  {
   "cell_type": "code",
   "execution_count": 89,
   "id": "91071852-35a8-49ec-90af-7e573dca7445",
   "metadata": {},
   "outputs": [
    {
     "data": {
      "text/html": [
       "<div>\n",
       "<style scoped>\n",
       "    .dataframe tbody tr th:only-of-type {\n",
       "        vertical-align: middle;\n",
       "    }\n",
       "\n",
       "    .dataframe tbody tr th {\n",
       "        vertical-align: top;\n",
       "    }\n",
       "\n",
       "    .dataframe thead th {\n",
       "        text-align: right;\n",
       "    }\n",
       "</style>\n",
       "<table border=\"1\" class=\"dataframe\">\n",
       "  <thead>\n",
       "    <tr style=\"text-align: right;\">\n",
       "      <th></th>\n",
       "      <th>Published Date</th>\n",
       "      <th>Account</th>\n",
       "      <th>Account Type</th>\n",
       "      <th>Campaign Name</th>\n",
       "      <th>Total Impressions</th>\n",
       "      <th>Total Engagements</th>\n",
       "      <th>Media Type</th>\n",
       "    </tr>\n",
       "  </thead>\n",
       "  <tbody>\n",
       "    <tr>\n",
       "      <th>0</th>\n",
       "      <td>2023-03-31 19:55:43.192</td>\n",
       "      <td>CSGO</td>\n",
       "      <td>TWITTER</td>\n",
       "      <td>N/A</td>\n",
       "      <td>0.0</td>\n",
       "      <td>0.0</td>\n",
       "      <td>Text</td>\n",
       "    </tr>\n",
       "    <tr>\n",
       "      <th>1</th>\n",
       "      <td>2023-03-31 19:49:35.243</td>\n",
       "      <td>CSGO</td>\n",
       "      <td>TWITTER</td>\n",
       "      <td>N/A</td>\n",
       "      <td>0.0</td>\n",
       "      <td>0.0</td>\n",
       "      <td>Text</td>\n",
       "    </tr>\n",
       "    <tr>\n",
       "      <th>2</th>\n",
       "      <td>2023-03-31 19:49:33.535</td>\n",
       "      <td>CSGO</td>\n",
       "      <td>TWITTER</td>\n",
       "      <td>N/A</td>\n",
       "      <td>0.0</td>\n",
       "      <td>0.0</td>\n",
       "      <td>Text</td>\n",
       "    </tr>\n",
       "    <tr>\n",
       "      <th>3</th>\n",
       "      <td>2023-03-31 19:49:31.583</td>\n",
       "      <td>CSGO</td>\n",
       "      <td>TWITTER</td>\n",
       "      <td>N/A</td>\n",
       "      <td>0.0</td>\n",
       "      <td>0.0</td>\n",
       "      <td>Text</td>\n",
       "    </tr>\n",
       "    <tr>\n",
       "      <th>4</th>\n",
       "      <td>2023-03-31 19:43:42.590</td>\n",
       "      <td>CSGO</td>\n",
       "      <td>TWITTER</td>\n",
       "      <td>Community Engagement</td>\n",
       "      <td>9517.0</td>\n",
       "      <td>1215.0</td>\n",
       "      <td>Video</td>\n",
       "    </tr>\n",
       "  </tbody>\n",
       "</table>\n",
       "</div>"
      ],
      "text/plain": [
       "           Published Date Account Account Type          Campaign Name  \\\n",
       "0 2023-03-31 19:55:43.192    CSGO      TWITTER                   N/A    \n",
       "1 2023-03-31 19:49:35.243    CSGO      TWITTER                   N/A    \n",
       "2 2023-03-31 19:49:33.535    CSGO      TWITTER                   N/A    \n",
       "3 2023-03-31 19:49:31.583    CSGO      TWITTER                   N/A    \n",
       "4 2023-03-31 19:43:42.590    CSGO      TWITTER  Community Engagement    \n",
       "\n",
       "   Total Impressions  Total Engagements Media Type  \n",
       "0                0.0                0.0       Text  \n",
       "1                0.0                0.0       Text  \n",
       "2                0.0                0.0       Text  \n",
       "3                0.0                0.0       Text  \n",
       "4             9517.0             1215.0      Video  "
      ]
     },
     "execution_count": 89,
     "metadata": {},
     "output_type": "execute_result"
    }
   ],
   "source": [
    "# assigning data to dataframe created from original excel file\n",
    "data = pd.read_excel('social_data.xlsx')\n",
    "data.head()"
   ]
  },
  {
   "cell_type": "code",
   "execution_count": 90,
   "id": "442cbe59-c34e-47d5-9ae2-5e94073396d5",
   "metadata": {},
   "outputs": [
    {
     "data": {
      "text/plain": [
       "(3479, 7)"
      ]
     },
     "execution_count": 90,
     "metadata": {},
     "output_type": "execute_result"
    }
   ],
   "source": [
    "# ensuring shape of dataframe\n",
    "data.shape"
   ]
  },
  {
   "cell_type": "code",
   "execution_count": 91,
   "id": "da53c5ed-90a2-4a42-af14-17e367265725",
   "metadata": {},
   "outputs": [
    {
     "data": {
      "text/plain": [
       "array(['CSGO', 'General ', 'DOTA2', 'Content Creators', 'Valorant',\n",
       "       'General'], dtype=object)"
      ]
     },
     "execution_count": 91,
     "metadata": {},
     "output_type": "execute_result"
    }
   ],
   "source": [
    "# finding unique values for Account feature\n",
    "data['Account'].unique()"
   ]
  },
  {
   "cell_type": "code",
   "execution_count": 92,
   "id": "7b140122-9a99-40a4-9404-aaee445ddb79",
   "metadata": {},
   "outputs": [
    {
     "data": {
      "text/plain": [
       "array(['TWITTER', 'FBPAGE', 'INSTAGRAM', 'TIKTOK_BUSINESS', 'YOUTUBE',\n",
       "       'LINKEDIN_COMPANY'], dtype=object)"
      ]
     },
     "execution_count": 92,
     "metadata": {},
     "output_type": "execute_result"
    }
   ],
   "source": [
    "# finding unique values for Account Type feature\n",
    "data['Account Type'].unique()"
   ]
  },
  {
   "cell_type": "code",
   "execution_count": 93,
   "id": "a2b433ef-a4ef-4269-9c84-1b04e21ebe11",
   "metadata": {},
   "outputs": [
    {
     "data": {
      "text/plain": [
       "array(['N/A ', 'Community Engagement ', 'Evergreen ', 'Evil Exhibited '],\n",
       "      dtype=object)"
      ]
     },
     "execution_count": 93,
     "metadata": {},
     "output_type": "execute_result"
    }
   ],
   "source": [
    "# finding unique values for Campaign Name feature\n",
    "data['Campaign Name'].unique()"
   ]
  },
  {
   "cell_type": "code",
   "execution_count": 94,
   "id": "2dbc6dff-3234-4f6d-ba45-78b0ab046128",
   "metadata": {},
   "outputs": [
    {
     "data": {
      "text/plain": [
       "array(['Text', 'Video', 'Photo', 'Link', 'Carousel', 'Mixed', 'Album'],\n",
       "      dtype=object)"
      ]
     },
     "execution_count": 94,
     "metadata": {},
     "output_type": "execute_result"
    }
   ],
   "source": [
    "# finding unique values for Media Type feature\n",
    "data['Media Type'].unique()"
   ]
  },
  {
   "cell_type": "code",
   "execution_count": 95,
   "id": "dea38c8f-3f24-416f-abf4-9f327fc41c61",
   "metadata": {},
   "outputs": [
    {
     "data": {
      "text/plain": [
       "0.08634264184427354"
      ]
     },
     "execution_count": 95,
     "metadata": {},
     "output_type": "execute_result"
    }
   ],
   "source": [
    "# find average engagement rate across entire dataset\n",
    "avg_engagement_rate = data['Total Engagements'].sum()/data['Total Impressions'].sum()\n",
    "avg_engagement_rate"
   ]
  },
  {
   "cell_type": "code",
   "execution_count": 96,
   "id": "782f47ab-43bc-43f7-909f-816358aa0e0a",
   "metadata": {},
   "outputs": [
    {
     "name": "stderr",
     "output_type": "stream",
     "text": [
      "C:\\Users\\cschow\\AppData\\Local\\Temp\\ipykernel_7748\\1760298334.py:6: RuntimeWarning: invalid value encountered in double_scalars\n",
      "  if engagement[a] / impressions[a] >= 0.15:\n"
     ]
    },
    {
     "data": {
      "text/plain": [
       "0.06496119574590399"
      ]
     },
     "execution_count": 96,
     "metadata": {},
     "output_type": "execute_result"
    }
   ],
   "source": [
    "def fifteen_percenters(engagement, impressions):\n",
    "    \"\"\"This function takes in the Total Engagement series as well as the Total Impressions series, finds each row's average, summing up \n",
    "    instances that exceed 15%, thus finding the proportion that do find the likelihood of getting at least 15% engagement rate.\"\"\"\n",
    "    i = 0\n",
    "    for a in range(0, data.shape[0]):\n",
    "        if engagement[a] / impressions[a] >= 0.15:\n",
    "            i += 1\n",
    "        else:\n",
    "            pass\n",
    "    return i / data.shape[0]\n",
    "    \n",
    "fifteen_percenters(data['Total Engagements'], data['Total Impressions'])"
   ]
  },
  {
   "cell_type": "code",
   "execution_count": 97,
   "id": "3e5f08ac-dbfb-42ab-92ea-7e3e711e7f2d",
   "metadata": {},
   "outputs": [
    {
     "data": {
      "text/html": [
       "<div>\n",
       "<style scoped>\n",
       "    .dataframe tbody tr th:only-of-type {\n",
       "        vertical-align: middle;\n",
       "    }\n",
       "\n",
       "    .dataframe tbody tr th {\n",
       "        vertical-align: top;\n",
       "    }\n",
       "\n",
       "    .dataframe thead th {\n",
       "        text-align: right;\n",
       "    }\n",
       "</style>\n",
       "<table border=\"1\" class=\"dataframe\">\n",
       "  <thead>\n",
       "    <tr style=\"text-align: right;\">\n",
       "      <th></th>\n",
       "      <th>Published Date</th>\n",
       "      <th>Account</th>\n",
       "      <th>Account Type</th>\n",
       "      <th>Campaign Name</th>\n",
       "      <th>Total Impressions</th>\n",
       "      <th>Total Engagements</th>\n",
       "      <th>Media Type</th>\n",
       "      <th>Month</th>\n",
       "      <th>Day</th>\n",
       "      <th>Hour</th>\n",
       "    </tr>\n",
       "  </thead>\n",
       "  <tbody>\n",
       "    <tr>\n",
       "      <th>0</th>\n",
       "      <td>2023-03-31 19:55:43.192</td>\n",
       "      <td>CSGO</td>\n",
       "      <td>TWITTER</td>\n",
       "      <td>N/A</td>\n",
       "      <td>0.0</td>\n",
       "      <td>0.0</td>\n",
       "      <td>Text</td>\n",
       "      <td>03</td>\n",
       "      <td>Friday</td>\n",
       "      <td>19</td>\n",
       "    </tr>\n",
       "    <tr>\n",
       "      <th>1</th>\n",
       "      <td>2023-03-31 19:49:35.243</td>\n",
       "      <td>CSGO</td>\n",
       "      <td>TWITTER</td>\n",
       "      <td>N/A</td>\n",
       "      <td>0.0</td>\n",
       "      <td>0.0</td>\n",
       "      <td>Text</td>\n",
       "      <td>03</td>\n",
       "      <td>Friday</td>\n",
       "      <td>19</td>\n",
       "    </tr>\n",
       "    <tr>\n",
       "      <th>2</th>\n",
       "      <td>2023-03-31 19:49:33.535</td>\n",
       "      <td>CSGO</td>\n",
       "      <td>TWITTER</td>\n",
       "      <td>N/A</td>\n",
       "      <td>0.0</td>\n",
       "      <td>0.0</td>\n",
       "      <td>Text</td>\n",
       "      <td>03</td>\n",
       "      <td>Friday</td>\n",
       "      <td>19</td>\n",
       "    </tr>\n",
       "    <tr>\n",
       "      <th>3</th>\n",
       "      <td>2023-03-31 19:49:31.583</td>\n",
       "      <td>CSGO</td>\n",
       "      <td>TWITTER</td>\n",
       "      <td>N/A</td>\n",
       "      <td>0.0</td>\n",
       "      <td>0.0</td>\n",
       "      <td>Text</td>\n",
       "      <td>03</td>\n",
       "      <td>Friday</td>\n",
       "      <td>19</td>\n",
       "    </tr>\n",
       "    <tr>\n",
       "      <th>4</th>\n",
       "      <td>2023-03-31 19:43:42.590</td>\n",
       "      <td>CSGO</td>\n",
       "      <td>TWITTER</td>\n",
       "      <td>Community Engagement</td>\n",
       "      <td>9517.0</td>\n",
       "      <td>1215.0</td>\n",
       "      <td>Video</td>\n",
       "      <td>03</td>\n",
       "      <td>Friday</td>\n",
       "      <td>19</td>\n",
       "    </tr>\n",
       "  </tbody>\n",
       "</table>\n",
       "</div>"
      ],
      "text/plain": [
       "           Published Date Account Account Type          Campaign Name  \\\n",
       "0 2023-03-31 19:55:43.192    CSGO      TWITTER                   N/A    \n",
       "1 2023-03-31 19:49:35.243    CSGO      TWITTER                   N/A    \n",
       "2 2023-03-31 19:49:33.535    CSGO      TWITTER                   N/A    \n",
       "3 2023-03-31 19:49:31.583    CSGO      TWITTER                   N/A    \n",
       "4 2023-03-31 19:43:42.590    CSGO      TWITTER  Community Engagement    \n",
       "\n",
       "   Total Impressions  Total Engagements Media Type Month     Day Hour  \n",
       "0                0.0                0.0       Text    03  Friday   19  \n",
       "1                0.0                0.0       Text    03  Friday   19  \n",
       "2                0.0                0.0       Text    03  Friday   19  \n",
       "3                0.0                0.0       Text    03  Friday   19  \n",
       "4             9517.0             1215.0      Video    03  Friday   19  "
      ]
     },
     "execution_count": 97,
     "metadata": {},
     "output_type": "execute_result"
    }
   ],
   "source": [
    "# extracting month, day, and hour from Published Date and assigning them to newly created columns. \n",
    "from datetime import datetime\n",
    "\n",
    "data['Month'] = [x.strftime('%m') for x in data['Published Date']]\n",
    "data['Day'] = [y.strftime('%A') for y in data['Published Date']]\n",
    "data['Hour'] = [z.strftime('%H') for z in data['Published Date']]\n",
    "data.head()"
   ]
  },
  {
   "cell_type": "code",
   "execution_count": 98,
   "id": "6e2d33a6-2d29-47e1-b09c-b499f681af76",
   "metadata": {},
   "outputs": [
    {
     "data": {
      "text/plain": [
       "array(['Friday', 'Thursday', 'Wednesday', 'Tuesday', 'Monday', 'Sunday',\n",
       "       'Saturday'], dtype=object)"
      ]
     },
     "execution_count": 98,
     "metadata": {},
     "output_type": "execute_result"
    }
   ],
   "source": [
    "data['Day'].unique()"
   ]
  },
  {
   "cell_type": "code",
   "execution_count": 99,
   "id": "f2d422f5-4a8c-4fb6-a936-b1e6b94d9d9b",
   "metadata": {},
   "outputs": [],
   "source": [
    "# groupby Day of the week only, subsequently adding up Total Impressions and Total Engagements\n",
    "day_data = data.groupby(['Day']).sum().reset_index()"
   ]
  },
  {
   "cell_type": "code",
   "execution_count": 100,
   "id": "b39afad3-3362-497d-9128-1ca102ec38a5",
   "metadata": {},
   "outputs": [
    {
     "data": {
      "text/html": [
       "<div>\n",
       "<style scoped>\n",
       "    .dataframe tbody tr th:only-of-type {\n",
       "        vertical-align: middle;\n",
       "    }\n",
       "\n",
       "    .dataframe tbody tr th {\n",
       "        vertical-align: top;\n",
       "    }\n",
       "\n",
       "    .dataframe thead th {\n",
       "        text-align: right;\n",
       "    }\n",
       "</style>\n",
       "<table border=\"1\" class=\"dataframe\">\n",
       "  <thead>\n",
       "    <tr style=\"text-align: right;\">\n",
       "      <th></th>\n",
       "      <th>Day</th>\n",
       "      <th>Total Impressions</th>\n",
       "      <th>Total Engagements</th>\n",
       "      <th>Daily Average</th>\n",
       "    </tr>\n",
       "  </thead>\n",
       "  <tbody>\n",
       "    <tr>\n",
       "      <th>3</th>\n",
       "      <td>Sunday</td>\n",
       "      <td>3731347.0</td>\n",
       "      <td>395480.0</td>\n",
       "      <td>0.105989</td>\n",
       "    </tr>\n",
       "    <tr>\n",
       "      <th>5</th>\n",
       "      <td>Tuesday</td>\n",
       "      <td>7197026.0</td>\n",
       "      <td>731487.0</td>\n",
       "      <td>0.101637</td>\n",
       "    </tr>\n",
       "    <tr>\n",
       "      <th>4</th>\n",
       "      <td>Thursday</td>\n",
       "      <td>8522704.0</td>\n",
       "      <td>764920.0</td>\n",
       "      <td>0.089751</td>\n",
       "    </tr>\n",
       "    <tr>\n",
       "      <th>0</th>\n",
       "      <td>Friday</td>\n",
       "      <td>7481113.0</td>\n",
       "      <td>642596.0</td>\n",
       "      <td>0.085896</td>\n",
       "    </tr>\n",
       "    <tr>\n",
       "      <th>6</th>\n",
       "      <td>Wednesday</td>\n",
       "      <td>5736454.0</td>\n",
       "      <td>448516.0</td>\n",
       "      <td>0.078187</td>\n",
       "    </tr>\n",
       "    <tr>\n",
       "      <th>1</th>\n",
       "      <td>Monday</td>\n",
       "      <td>2476029.0</td>\n",
       "      <td>166279.0</td>\n",
       "      <td>0.067156</td>\n",
       "    </tr>\n",
       "    <tr>\n",
       "      <th>2</th>\n",
       "      <td>Saturday</td>\n",
       "      <td>3028493.0</td>\n",
       "      <td>146694.0</td>\n",
       "      <td>0.048438</td>\n",
       "    </tr>\n",
       "  </tbody>\n",
       "</table>\n",
       "</div>"
      ],
      "text/plain": [
       "         Day  Total Impressions  Total Engagements  Daily Average\n",
       "3     Sunday          3731347.0           395480.0       0.105989\n",
       "5    Tuesday          7197026.0           731487.0       0.101637\n",
       "4   Thursday          8522704.0           764920.0       0.089751\n",
       "0     Friday          7481113.0           642596.0       0.085896\n",
       "6  Wednesday          5736454.0           448516.0       0.078187\n",
       "1     Monday          2476029.0           166279.0       0.067156\n",
       "2   Saturday          3028493.0           146694.0       0.048438"
      ]
     },
     "execution_count": 100,
     "metadata": {},
     "output_type": "execute_result"
    }
   ],
   "source": [
    "# finds average of each day, no matter what month and sorts them in descending order\n",
    "day_data['Daily Average'] = day_data['Total Engagements']/day_data['Total Impressions']\n",
    "day_data.sort_values(by=['Daily Average'], ascending=False)"
   ]
  },
  {
   "cell_type": "code",
   "execution_count": 101,
   "id": "d31bd6f4-e7d6-4734-a724-5f2847006ce5",
   "metadata": {},
   "outputs": [
    {
     "data": {
      "text/plain": [
       "Text(0.5, 1.0, 'Daily Averages')"
      ]
     },
     "execution_count": 101,
     "metadata": {},
     "output_type": "execute_result"
    },
    {
     "data": {
      "image/png": "[encoded data removed]",
      "text/plain": [
       "<Figure size 1080x576 with 1 Axes>"
      ]
     },
     "metadata": {
      "needs_background": "light"
     },
     "output_type": "display_data"
    }
   ],
   "source": [
    "plt.figure(figsize=(15,8))\n",
    "sns.barplot(data=day_data, x='Day', y='Daily Average')\n",
    "plt.xlabel(\"Day of Week\")\n",
    "plt.title(\"Daily Averages\")"
   ]
  },
  {
   "cell_type": "code",
   "execution_count": 102,
   "id": "abbd636e-130b-450f-868b-fb55a043efb9",
   "metadata": {},
   "outputs": [],
   "source": [
    "# similar as above, but including month as well\n",
    "monthly_data = data.groupby(['Day', 'Month']).sum().reset_index()"
   ]
  },
  {
   "cell_type": "code",
   "execution_count": 103,
   "id": "943babce-c0f8-45cf-90ab-c5767814ce5c",
   "metadata": {},
   "outputs": [
    {
     "data": {
      "text/html": [
       "<div>\n",
       "<style scoped>\n",
       "    .dataframe tbody tr th:only-of-type {\n",
       "        vertical-align: middle;\n",
       "    }\n",
       "\n",
       "    .dataframe tbody tr th {\n",
       "        vertical-align: top;\n",
       "    }\n",
       "\n",
       "    .dataframe thead th {\n",
       "        text-align: right;\n",
       "    }\n",
       "</style>\n",
       "<table border=\"1\" class=\"dataframe\">\n",
       "  <thead>\n",
       "    <tr style=\"text-align: right;\">\n",
       "      <th></th>\n",
       "      <th>Day</th>\n",
       "      <th>Month</th>\n",
       "      <th>Total Impressions</th>\n",
       "      <th>Total Engagements</th>\n",
       "      <th>Monthly Daily Average</th>\n",
       "    </tr>\n",
       "  </thead>\n",
       "  <tbody>\n",
       "    <tr>\n",
       "      <th>9</th>\n",
       "      <td>Sunday</td>\n",
       "      <td>01</td>\n",
       "      <td>1393921.0</td>\n",
       "      <td>178796.0</td>\n",
       "      <td>0.128268</td>\n",
       "    </tr>\n",
       "    <tr>\n",
       "      <th>12</th>\n",
       "      <td>Thursday</td>\n",
       "      <td>01</td>\n",
       "      <td>4040344.0</td>\n",
       "      <td>489420.0</td>\n",
       "      <td>0.121133</td>\n",
       "    </tr>\n",
       "    <tr>\n",
       "      <th>16</th>\n",
       "      <td>Tuesday</td>\n",
       "      <td>02</td>\n",
       "      <td>2117476.0</td>\n",
       "      <td>253600.0</td>\n",
       "      <td>0.119765</td>\n",
       "    </tr>\n",
       "    <tr>\n",
       "      <th>18</th>\n",
       "      <td>Wednesday</td>\n",
       "      <td>01</td>\n",
       "      <td>1163195.0</td>\n",
       "      <td>128537.0</td>\n",
       "      <td>0.110503</td>\n",
       "    </tr>\n",
       "    <tr>\n",
       "      <th>17</th>\n",
       "      <td>Tuesday</td>\n",
       "      <td>03</td>\n",
       "      <td>1109867.0</td>\n",
       "      <td>114700.0</td>\n",
       "      <td>0.103346</td>\n",
       "    </tr>\n",
       "    <tr>\n",
       "      <th>10</th>\n",
       "      <td>Sunday</td>\n",
       "      <td>02</td>\n",
       "      <td>1257659.0</td>\n",
       "      <td>128291.0</td>\n",
       "      <td>0.102008</td>\n",
       "    </tr>\n",
       "    <tr>\n",
       "      <th>2</th>\n",
       "      <td>Friday</td>\n",
       "      <td>03</td>\n",
       "      <td>4272897.0</td>\n",
       "      <td>395715.0</td>\n",
       "      <td>0.092610</td>\n",
       "    </tr>\n",
       "    <tr>\n",
       "      <th>15</th>\n",
       "      <td>Tuesday</td>\n",
       "      <td>01</td>\n",
       "      <td>3969683.0</td>\n",
       "      <td>363187.0</td>\n",
       "      <td>0.091490</td>\n",
       "    </tr>\n",
       "    <tr>\n",
       "      <th>3</th>\n",
       "      <td>Monday</td>\n",
       "      <td>01</td>\n",
       "      <td>713858.0</td>\n",
       "      <td>64802.0</td>\n",
       "      <td>0.090777</td>\n",
       "    </tr>\n",
       "    <tr>\n",
       "      <th>1</th>\n",
       "      <td>Friday</td>\n",
       "      <td>02</td>\n",
       "      <td>2711488.0</td>\n",
       "      <td>222259.0</td>\n",
       "      <td>0.081969</td>\n",
       "    </tr>\n",
       "    <tr>\n",
       "      <th>11</th>\n",
       "      <td>Sunday</td>\n",
       "      <td>03</td>\n",
       "      <td>1079767.0</td>\n",
       "      <td>88393.0</td>\n",
       "      <td>0.081863</td>\n",
       "    </tr>\n",
       "    <tr>\n",
       "      <th>20</th>\n",
       "      <td>Wednesday</td>\n",
       "      <td>03</td>\n",
       "      <td>2450374.0</td>\n",
       "      <td>198137.0</td>\n",
       "      <td>0.080860</td>\n",
       "    </tr>\n",
       "    <tr>\n",
       "      <th>4</th>\n",
       "      <td>Monday</td>\n",
       "      <td>02</td>\n",
       "      <td>756124.0</td>\n",
       "      <td>47563.0</td>\n",
       "      <td>0.062904</td>\n",
       "    </tr>\n",
       "    <tr>\n",
       "      <th>14</th>\n",
       "      <td>Thursday</td>\n",
       "      <td>03</td>\n",
       "      <td>2027869.0</td>\n",
       "      <td>125239.0</td>\n",
       "      <td>0.061759</td>\n",
       "    </tr>\n",
       "    <tr>\n",
       "      <th>13</th>\n",
       "      <td>Thursday</td>\n",
       "      <td>02</td>\n",
       "      <td>2454491.0</td>\n",
       "      <td>150261.0</td>\n",
       "      <td>0.061219</td>\n",
       "    </tr>\n",
       "    <tr>\n",
       "      <th>19</th>\n",
       "      <td>Wednesday</td>\n",
       "      <td>02</td>\n",
       "      <td>2122885.0</td>\n",
       "      <td>121842.0</td>\n",
       "      <td>0.057395</td>\n",
       "    </tr>\n",
       "    <tr>\n",
       "      <th>7</th>\n",
       "      <td>Saturday</td>\n",
       "      <td>02</td>\n",
       "      <td>1850490.0</td>\n",
       "      <td>104055.0</td>\n",
       "      <td>0.056231</td>\n",
       "    </tr>\n",
       "    <tr>\n",
       "      <th>5</th>\n",
       "      <td>Monday</td>\n",
       "      <td>03</td>\n",
       "      <td>1006047.0</td>\n",
       "      <td>53914.0</td>\n",
       "      <td>0.053590</td>\n",
       "    </tr>\n",
       "    <tr>\n",
       "      <th>0</th>\n",
       "      <td>Friday</td>\n",
       "      <td>01</td>\n",
       "      <td>496728.0</td>\n",
       "      <td>24622.0</td>\n",
       "      <td>0.049568</td>\n",
       "    </tr>\n",
       "    <tr>\n",
       "      <th>8</th>\n",
       "      <td>Saturday</td>\n",
       "      <td>03</td>\n",
       "      <td>873260.0</td>\n",
       "      <td>32402.0</td>\n",
       "      <td>0.037105</td>\n",
       "    </tr>\n",
       "    <tr>\n",
       "      <th>6</th>\n",
       "      <td>Saturday</td>\n",
       "      <td>01</td>\n",
       "      <td>304743.0</td>\n",
       "      <td>10237.0</td>\n",
       "      <td>0.033592</td>\n",
       "    </tr>\n",
       "  </tbody>\n",
       "</table>\n",
       "</div>"
      ],
      "text/plain": [
       "          Day Month  Total Impressions  Total Engagements  \\\n",
       "9      Sunday    01          1393921.0           178796.0   \n",
       "12   Thursday    01          4040344.0           489420.0   \n",
       "16    Tuesday    02          2117476.0           253600.0   \n",
       "18  Wednesday    01          1163195.0           128537.0   \n",
       "17    Tuesday    03          1109867.0           114700.0   \n",
       "10     Sunday    02          1257659.0           128291.0   \n",
       "2      Friday    03          4272897.0           395715.0   \n",
       "15    Tuesday    01          3969683.0           363187.0   \n",
       "3      Monday    01           713858.0            64802.0   \n",
       "1      Friday    02          2711488.0           222259.0   \n",
       "11     Sunday    03          1079767.0            88393.0   \n",
       "20  Wednesday    03          2450374.0           198137.0   \n",
       "4      Monday    02           756124.0            47563.0   \n",
       "14   Thursday    03          2027869.0           125239.0   \n",
       "13   Thursday    02          2454491.0           150261.0   \n",
       "19  Wednesday    02          2122885.0           121842.0   \n",
       "7    Saturday    02          1850490.0           104055.0   \n",
       "5      Monday    03          1006047.0            53914.0   \n",
       "0      Friday    01           496728.0            24622.0   \n",
       "8    Saturday    03           873260.0            32402.0   \n",
       "6    Saturday    01           304743.0            10237.0   \n",
       "\n",
       "    Monthly Daily Average  \n",
       "9                0.128268  \n",
       "12               0.121133  \n",
       "16               0.119765  \n",
       "18               0.110503  \n",
       "17               0.103346  \n",
       "10               0.102008  \n",
       "2                0.092610  \n",
       "15               0.091490  \n",
       "3                0.090777  \n",
       "1                0.081969  \n",
       "11               0.081863  \n",
       "20               0.080860  \n",
       "4                0.062904  \n",
       "14               0.061759  \n",
       "13               0.061219  \n",
       "19               0.057395  \n",
       "7                0.056231  \n",
       "5                0.053590  \n",
       "0                0.049568  \n",
       "8                0.037105  \n",
       "6                0.033592  "
      ]
     },
     "execution_count": 103,
     "metadata": {},
     "output_type": "execute_result"
    }
   ],
   "source": [
    "# calculates average engagement based on everyday for each month, sorting them in descending order\n",
    "monthly_data['Monthly Daily Average'] = monthly_data['Total Engagements']/monthly_data['Total Impressions']\n",
    "monthly_data.sort_values(by=['Monthly Daily Average'], ascending=False)"
   ]
  },
  {
   "cell_type": "code",
   "execution_count": 104,
   "id": "9c215d45-364c-40fa-94c1-b85f891c173f",
   "metadata": {},
   "outputs": [
    {
     "data": {
      "text/plain": [
       "Text(0.5, 1.0, 'Daily Averages by Month')"
      ]
     },
     "execution_count": 104,
     "metadata": {},
     "output_type": "execute_result"
    },
    {
     "data": {
      "image/png": "[encoded data removed]",
      "text/plain": [
       "<Figure size 1080x576 with 1 Axes>"
      ]
     },
     "metadata": {
      "needs_background": "light"
     },
     "output_type": "display_data"
    }
   ],
   "source": [
    "plt.figure(figsize=(15,8))\n",
    "sns.barplot(data=monthly_data, x='Day', y='Monthly Daily Average', hue='Month')\n",
    "plt.xlabel(\"Day of Week\")\n",
    "plt.title(\"Daily Averages by Month\")"
   ]
  },
  {
   "cell_type": "markdown",
   "id": "4a9a6f6e-7ed5-49cc-909a-6efe1cc9b69c",
   "metadata": {},
   "source": [
    "#### Based on both outputs, we can see Sunday and Tuesday generally see higher average rates of engagement more generally. Thursday and Wednesday also saw big engagement, but mostly kept in January."
   ]
  },
  {
   "cell_type": "code",
   "execution_count": 105,
   "id": "92f5af35-4470-44fd-808d-29fc79982bf3",
   "metadata": {},
   "outputs": [],
   "source": [
    "hourly_data = data.groupby(['Hour', 'Day']).sum().reset_index()"
   ]
  },
  {
   "cell_type": "code",
   "execution_count": 106,
   "id": "5a79263f-9e97-43ce-8969-6fc2ea97d3e3",
   "metadata": {},
   "outputs": [
    {
     "data": {
      "text/html": [
       "<div>\n",
       "<style scoped>\n",
       "    .dataframe tbody tr th:only-of-type {\n",
       "        vertical-align: middle;\n",
       "    }\n",
       "\n",
       "    .dataframe tbody tr th {\n",
       "        vertical-align: top;\n",
       "    }\n",
       "\n",
       "    .dataframe thead th {\n",
       "        text-align: right;\n",
       "    }\n",
       "</style>\n",
       "<table border=\"1\" class=\"dataframe\">\n",
       "  <thead>\n",
       "    <tr style=\"text-align: right;\">\n",
       "      <th></th>\n",
       "      <th>Hour</th>\n",
       "      <th>Day</th>\n",
       "      <th>Total Impressions</th>\n",
       "      <th>Total Engagements</th>\n",
       "      <th>Hourly Average</th>\n",
       "    </tr>\n",
       "  </thead>\n",
       "  <tbody>\n",
       "    <tr>\n",
       "      <th>13</th>\n",
       "      <td>05</td>\n",
       "      <td>Tuesday</td>\n",
       "      <td>129344.0</td>\n",
       "      <td>66984.0</td>\n",
       "      <td>0.517875</td>\n",
       "    </tr>\n",
       "    <tr>\n",
       "      <th>115</th>\n",
       "      <td>20</td>\n",
       "      <td>Sunday</td>\n",
       "      <td>87543.0</td>\n",
       "      <td>26182.0</td>\n",
       "      <td>0.299076</td>\n",
       "    </tr>\n",
       "    <tr>\n",
       "      <th>120</th>\n",
       "      <td>21</td>\n",
       "      <td>Thursday</td>\n",
       "      <td>97.0</td>\n",
       "      <td>21.0</td>\n",
       "      <td>0.216495</td>\n",
       "    </tr>\n",
       "    <tr>\n",
       "      <th>28</th>\n",
       "      <td>07</td>\n",
       "      <td>Wednesday</td>\n",
       "      <td>240723.0</td>\n",
       "      <td>51717.0</td>\n",
       "      <td>0.214840</td>\n",
       "    </tr>\n",
       "    <tr>\n",
       "      <th>32</th>\n",
       "      <td>08</td>\n",
       "      <td>Sunday</td>\n",
       "      <td>176195.0</td>\n",
       "      <td>37627.0</td>\n",
       "      <td>0.213553</td>\n",
       "    </tr>\n",
       "    <tr>\n",
       "      <th>...</th>\n",
       "      <td>...</td>\n",
       "      <td>...</td>\n",
       "      <td>...</td>\n",
       "      <td>...</td>\n",
       "      <td>...</td>\n",
       "    </tr>\n",
       "    <tr>\n",
       "      <th>127</th>\n",
       "      <td>23</td>\n",
       "      <td>Sunday</td>\n",
       "      <td>102081.0</td>\n",
       "      <td>500.0</td>\n",
       "      <td>0.004898</td>\n",
       "    </tr>\n",
       "    <tr>\n",
       "      <th>9</th>\n",
       "      <td>04</td>\n",
       "      <td>Wednesday</td>\n",
       "      <td>7718.0</td>\n",
       "      <td>33.0</td>\n",
       "      <td>0.004276</td>\n",
       "    </tr>\n",
       "    <tr>\n",
       "      <th>0</th>\n",
       "      <td>00</td>\n",
       "      <td>Friday</td>\n",
       "      <td>0.0</td>\n",
       "      <td>0.0</td>\n",
       "      <td>NaN</td>\n",
       "    </tr>\n",
       "    <tr>\n",
       "      <th>125</th>\n",
       "      <td>22</td>\n",
       "      <td>Saturday</td>\n",
       "      <td>0.0</td>\n",
       "      <td>0.0</td>\n",
       "      <td>NaN</td>\n",
       "    </tr>\n",
       "    <tr>\n",
       "      <th>126</th>\n",
       "      <td>22</td>\n",
       "      <td>Tuesday</td>\n",
       "      <td>0.0</td>\n",
       "      <td>0.0</td>\n",
       "      <td>NaN</td>\n",
       "    </tr>\n",
       "  </tbody>\n",
       "</table>\n",
       "<p>130 rows × 5 columns</p>\n",
       "</div>"
      ],
      "text/plain": [
       "    Hour        Day  Total Impressions  Total Engagements  Hourly Average\n",
       "13    05    Tuesday           129344.0            66984.0        0.517875\n",
       "115   20     Sunday            87543.0            26182.0        0.299076\n",
       "120   21   Thursday               97.0               21.0        0.216495\n",
       "28    07  Wednesday           240723.0            51717.0        0.214840\n",
       "32    08     Sunday           176195.0            37627.0        0.213553\n",
       "..   ...        ...                ...                ...             ...\n",
       "127   23     Sunday           102081.0              500.0        0.004898\n",
       "9     04  Wednesday             7718.0               33.0        0.004276\n",
       "0     00     Friday                0.0                0.0             NaN\n",
       "125   22   Saturday                0.0                0.0             NaN\n",
       "126   22    Tuesday                0.0                0.0             NaN\n",
       "\n",
       "[130 rows x 5 columns]"
      ]
     },
     "execution_count": 106,
     "metadata": {},
     "output_type": "execute_result"
    }
   ],
   "source": [
    "hourly_data['Hourly Average'] = hourly_data['Total Engagements']/hourly_data['Total Impressions']\n",
    "hourly_data.sort_values(by=['Hourly Average'], ascending=False)"
   ]
  },
  {
   "cell_type": "code",
   "execution_count": 107,
   "id": "23135b13-29ae-42e1-856f-9fa35cd6f5a7",
   "metadata": {},
   "outputs": [
    {
     "data": {
      "text/plain": [
       "Text(0.5, 1.0, 'Hourly Averages')"
      ]
     },
     "execution_count": 107,
     "metadata": {},
     "output_type": "execute_result"
    },
    {
     "data": {
      "image/png": "[encoded data removed]",
      "text/plain": [
       "<Figure size 1080x576 with 1 Axes>"
      ]
     },
     "metadata": {
      "needs_background": "light"
     },
     "output_type": "display_data"
    }
   ],
   "source": [
    "plt.figure(figsize=(15,8))\n",
    "sns.barplot(data=hourly_data, x='Hour', y='Hourly Average')\n",
    "plt.title(\"Hourly Averages\")"
   ]
  },
  {
   "cell_type": "code",
   "execution_count": 108,
   "id": "2b886bcc-2f10-4350-8c4b-162828b21ad1",
   "metadata": {},
   "outputs": [
    {
     "data": {
      "text/plain": [
       "Text(0.5, 1.0, 'Hourly Averages')"
      ]
     },
     "execution_count": 108,
     "metadata": {},
     "output_type": "execute_result"
    },
    {
     "data": {
      "image/png": "[encoded data removed]",
      "text/plain": [
       "<Figure size 1440x864 with 1 Axes>"
      ]
     },
     "metadata": {
      "needs_background": "light"
     },
     "output_type": "display_data"
    }
   ],
   "source": [
    "plt.figure(figsize=(20,12))\n",
    "sns.barplot(data=hourly_data, x='Hour', y='Hourly Average', hue='Day')\n",
    "plt.title(\"Hourly Averages\")"
   ]
  },
  {
   "cell_type": "markdown",
   "id": "af7435fa-2852-4395-b0be-106d1ddb975d",
   "metadata": {},
   "source": [
    "#### We can clearly see that 5 am sees the largest level of average engagement. This is interesting because, in American standards, this is quite early, so this could potentially give insight into what regions are more active without the explicit need for that data."
   ]
  },
  {
   "cell_type": "code",
   "execution_count": 109,
   "id": "3b819e44-6b7f-4c5d-b71a-29fbe346241c",
   "metadata": {},
   "outputs": [
    {
     "data": {
      "text/html": [
       "<div>\n",
       "<style scoped>\n",
       "    .dataframe tbody tr th:only-of-type {\n",
       "        vertical-align: middle;\n",
       "    }\n",
       "\n",
       "    .dataframe tbody tr th {\n",
       "        vertical-align: top;\n",
       "    }\n",
       "\n",
       "    .dataframe thead th {\n",
       "        text-align: right;\n",
       "    }\n",
       "</style>\n",
       "<table border=\"1\" class=\"dataframe\">\n",
       "  <thead>\n",
       "    <tr style=\"text-align: right;\">\n",
       "      <th></th>\n",
       "      <th>Account</th>\n",
       "      <th>Total Impressions</th>\n",
       "      <th>Total Engagements</th>\n",
       "    </tr>\n",
       "  </thead>\n",
       "  <tbody>\n",
       "    <tr>\n",
       "      <th>4</th>\n",
       "      <td>General</td>\n",
       "      <td>33888956.0</td>\n",
       "      <td>3076479.0</td>\n",
       "    </tr>\n",
       "    <tr>\n",
       "      <th>2</th>\n",
       "      <td>DOTA2</td>\n",
       "      <td>1859326.0</td>\n",
       "      <td>123990.0</td>\n",
       "    </tr>\n",
       "    <tr>\n",
       "      <th>0</th>\n",
       "      <td>CSGO</td>\n",
       "      <td>2313918.0</td>\n",
       "      <td>92336.0</td>\n",
       "    </tr>\n",
       "    <tr>\n",
       "      <th>1</th>\n",
       "      <td>Content Creators</td>\n",
       "      <td>45186.0</td>\n",
       "      <td>1387.0</td>\n",
       "    </tr>\n",
       "    <tr>\n",
       "      <th>5</th>\n",
       "      <td>Valorant</td>\n",
       "      <td>22979.0</td>\n",
       "      <td>931.0</td>\n",
       "    </tr>\n",
       "    <tr>\n",
       "      <th>3</th>\n",
       "      <td>General</td>\n",
       "      <td>42801.0</td>\n",
       "      <td>849.0</td>\n",
       "    </tr>\n",
       "  </tbody>\n",
       "</table>\n",
       "</div>"
      ],
      "text/plain": [
       "            Account  Total Impressions  Total Engagements\n",
       "4          General          33888956.0          3076479.0\n",
       "2             DOTA2          1859326.0           123990.0\n",
       "0              CSGO          2313918.0            92336.0\n",
       "1  Content Creators            45186.0             1387.0\n",
       "5          Valorant            22979.0              931.0\n",
       "3           General            42801.0              849.0"
      ]
     },
     "execution_count": 109,
     "metadata": {},
     "output_type": "execute_result"
    }
   ],
   "source": [
    "game_data = data.groupby(['Account']).sum().reset_index()\n",
    "game_data.sort_values(by=['Total Engagements'], ascending=False)"
   ]
  },
  {
   "cell_type": "code",
   "execution_count": 110,
   "id": "90b2ba02-e093-49c1-ab90-5d79ccedf9e7",
   "metadata": {},
   "outputs": [
    {
     "data": {
      "text/html": [
       "<div>\n",
       "<style scoped>\n",
       "    .dataframe tbody tr th:only-of-type {\n",
       "        vertical-align: middle;\n",
       "    }\n",
       "\n",
       "    .dataframe tbody tr th {\n",
       "        vertical-align: top;\n",
       "    }\n",
       "\n",
       "    .dataframe thead th {\n",
       "        text-align: right;\n",
       "    }\n",
       "</style>\n",
       "<table border=\"1\" class=\"dataframe\">\n",
       "  <thead>\n",
       "    <tr style=\"text-align: right;\">\n",
       "      <th></th>\n",
       "      <th>Account</th>\n",
       "      <th>Total Impressions</th>\n",
       "      <th>Total Engagements</th>\n",
       "      <th>Per Game Average</th>\n",
       "    </tr>\n",
       "  </thead>\n",
       "  <tbody>\n",
       "    <tr>\n",
       "      <th>4</th>\n",
       "      <td>General</td>\n",
       "      <td>33888956.0</td>\n",
       "      <td>3076479.0</td>\n",
       "      <td>0.090781</td>\n",
       "    </tr>\n",
       "    <tr>\n",
       "      <th>2</th>\n",
       "      <td>DOTA2</td>\n",
       "      <td>1859326.0</td>\n",
       "      <td>123990.0</td>\n",
       "      <td>0.066685</td>\n",
       "    </tr>\n",
       "    <tr>\n",
       "      <th>5</th>\n",
       "      <td>Valorant</td>\n",
       "      <td>22979.0</td>\n",
       "      <td>931.0</td>\n",
       "      <td>0.040515</td>\n",
       "    </tr>\n",
       "    <tr>\n",
       "      <th>0</th>\n",
       "      <td>CSGO</td>\n",
       "      <td>2313918.0</td>\n",
       "      <td>92336.0</td>\n",
       "      <td>0.039905</td>\n",
       "    </tr>\n",
       "    <tr>\n",
       "      <th>1</th>\n",
       "      <td>Content Creators</td>\n",
       "      <td>45186.0</td>\n",
       "      <td>1387.0</td>\n",
       "      <td>0.030695</td>\n",
       "    </tr>\n",
       "    <tr>\n",
       "      <th>3</th>\n",
       "      <td>General</td>\n",
       "      <td>42801.0</td>\n",
       "      <td>849.0</td>\n",
       "      <td>0.019836</td>\n",
       "    </tr>\n",
       "  </tbody>\n",
       "</table>\n",
       "</div>"
      ],
      "text/plain": [
       "            Account  Total Impressions  Total Engagements  Per Game Average\n",
       "4          General          33888956.0          3076479.0          0.090781\n",
       "2             DOTA2          1859326.0           123990.0          0.066685\n",
       "5          Valorant            22979.0              931.0          0.040515\n",
       "0              CSGO          2313918.0            92336.0          0.039905\n",
       "1  Content Creators            45186.0             1387.0          0.030695\n",
       "3           General            42801.0              849.0          0.019836"
      ]
     },
     "execution_count": 110,
     "metadata": {},
     "output_type": "execute_result"
    }
   ],
   "source": [
    "game_data['Per Game Average'] = game_data['Total Engagements']/game_data['Total Impressions']\n",
    "game_data.sort_values(by=['Per Game Average'], ascending=False)"
   ]
  },
  {
   "cell_type": "markdown",
   "id": "3a0f9676-21e3-4ebd-a4bf-9d12553aa9bc",
   "metadata": {},
   "source": [
    "#### just comparing `Total Engagements` and `Total Impressions`, DOTA2 and CSGO are atop the list by a fair amount. However, this may not mean much in this case since their averages are low. This shows that, although the raw numbers for each may be high, people are not necessarily engaging with the game as much as we'd like. "
   ]
  },
  {
   "cell_type": "code",
   "execution_count": 111,
   "id": "a9cd4543-814b-4b1f-bf9a-9f27a141d02f",
   "metadata": {},
   "outputs": [
    {
     "data": {
      "text/html": [
       "<div>\n",
       "<style scoped>\n",
       "    .dataframe tbody tr th:only-of-type {\n",
       "        vertical-align: middle;\n",
       "    }\n",
       "\n",
       "    .dataframe tbody tr th {\n",
       "        vertical-align: top;\n",
       "    }\n",
       "\n",
       "    .dataframe thead th {\n",
       "        text-align: right;\n",
       "    }\n",
       "</style>\n",
       "<table border=\"1\" class=\"dataframe\">\n",
       "  <thead>\n",
       "    <tr style=\"text-align: right;\">\n",
       "      <th></th>\n",
       "      <th>Media Type</th>\n",
       "      <th>Total Impressions</th>\n",
       "      <th>Total Engagements</th>\n",
       "    </tr>\n",
       "  </thead>\n",
       "  <tbody>\n",
       "    <tr>\n",
       "      <th>4</th>\n",
       "      <td>Photo</td>\n",
       "      <td>23893992.0</td>\n",
       "      <td>2167739.0</td>\n",
       "    </tr>\n",
       "    <tr>\n",
       "      <th>6</th>\n",
       "      <td>Video</td>\n",
       "      <td>10594813.0</td>\n",
       "      <td>859451.0</td>\n",
       "    </tr>\n",
       "    <tr>\n",
       "      <th>5</th>\n",
       "      <td>Text</td>\n",
       "      <td>3106203.0</td>\n",
       "      <td>246312.0</td>\n",
       "    </tr>\n",
       "    <tr>\n",
       "      <th>3</th>\n",
       "      <td>Mixed</td>\n",
       "      <td>184984.0</td>\n",
       "      <td>13664.0</td>\n",
       "    </tr>\n",
       "    <tr>\n",
       "      <th>1</th>\n",
       "      <td>Carousel</td>\n",
       "      <td>160689.0</td>\n",
       "      <td>6541.0</td>\n",
       "    </tr>\n",
       "    <tr>\n",
       "      <th>2</th>\n",
       "      <td>Link</td>\n",
       "      <td>232465.0</td>\n",
       "      <td>2257.0</td>\n",
       "    </tr>\n",
       "    <tr>\n",
       "      <th>0</th>\n",
       "      <td>Album</td>\n",
       "      <td>20.0</td>\n",
       "      <td>8.0</td>\n",
       "    </tr>\n",
       "  </tbody>\n",
       "</table>\n",
       "</div>"
      ],
      "text/plain": [
       "  Media Type  Total Impressions  Total Engagements\n",
       "4      Photo         23893992.0          2167739.0\n",
       "6      Video         10594813.0           859451.0\n",
       "5       Text          3106203.0           246312.0\n",
       "3      Mixed           184984.0            13664.0\n",
       "1   Carousel           160689.0             6541.0\n",
       "2       Link           232465.0             2257.0\n",
       "0      Album               20.0                8.0"
      ]
     },
     "execution_count": 111,
     "metadata": {},
     "output_type": "execute_result"
    }
   ],
   "source": [
    "media_type_data = data.groupby(['Media Type']).sum().reset_index()\n",
    "media_type_data.sort_values(by=['Total Engagements'], ascending=False)"
   ]
  },
  {
   "cell_type": "code",
   "execution_count": 112,
   "id": "538f5403-87d6-4bbd-a067-b9b80aeb6ecb",
   "metadata": {},
   "outputs": [
    {
     "data": {
      "text/html": [
       "<div>\n",
       "<style scoped>\n",
       "    .dataframe tbody tr th:only-of-type {\n",
       "        vertical-align: middle;\n",
       "    }\n",
       "\n",
       "    .dataframe tbody tr th {\n",
       "        vertical-align: top;\n",
       "    }\n",
       "\n",
       "    .dataframe thead th {\n",
       "        text-align: right;\n",
       "    }\n",
       "</style>\n",
       "<table border=\"1\" class=\"dataframe\">\n",
       "  <thead>\n",
       "    <tr style=\"text-align: right;\">\n",
       "      <th></th>\n",
       "      <th>Media Type</th>\n",
       "      <th>Total Impressions</th>\n",
       "      <th>Total Engagements</th>\n",
       "      <th>Media Type Averages</th>\n",
       "    </tr>\n",
       "  </thead>\n",
       "  <tbody>\n",
       "    <tr>\n",
       "      <th>0</th>\n",
       "      <td>Album</td>\n",
       "      <td>20.0</td>\n",
       "      <td>8.0</td>\n",
       "      <td>0.400000</td>\n",
       "    </tr>\n",
       "    <tr>\n",
       "      <th>4</th>\n",
       "      <td>Photo</td>\n",
       "      <td>23893992.0</td>\n",
       "      <td>2167739.0</td>\n",
       "      <td>0.090723</td>\n",
       "    </tr>\n",
       "    <tr>\n",
       "      <th>6</th>\n",
       "      <td>Video</td>\n",
       "      <td>10594813.0</td>\n",
       "      <td>859451.0</td>\n",
       "      <td>0.081120</td>\n",
       "    </tr>\n",
       "    <tr>\n",
       "      <th>5</th>\n",
       "      <td>Text</td>\n",
       "      <td>3106203.0</td>\n",
       "      <td>246312.0</td>\n",
       "      <td>0.079297</td>\n",
       "    </tr>\n",
       "    <tr>\n",
       "      <th>3</th>\n",
       "      <td>Mixed</td>\n",
       "      <td>184984.0</td>\n",
       "      <td>13664.0</td>\n",
       "      <td>0.073866</td>\n",
       "    </tr>\n",
       "    <tr>\n",
       "      <th>1</th>\n",
       "      <td>Carousel</td>\n",
       "      <td>160689.0</td>\n",
       "      <td>6541.0</td>\n",
       "      <td>0.040706</td>\n",
       "    </tr>\n",
       "    <tr>\n",
       "      <th>2</th>\n",
       "      <td>Link</td>\n",
       "      <td>232465.0</td>\n",
       "      <td>2257.0</td>\n",
       "      <td>0.009709</td>\n",
       "    </tr>\n",
       "  </tbody>\n",
       "</table>\n",
       "</div>"
      ],
      "text/plain": [
       "  Media Type  Total Impressions  Total Engagements  Media Type Averages\n",
       "0      Album               20.0                8.0             0.400000\n",
       "4      Photo         23893992.0          2167739.0             0.090723\n",
       "6      Video         10594813.0           859451.0             0.081120\n",
       "5       Text          3106203.0           246312.0             0.079297\n",
       "3      Mixed           184984.0            13664.0             0.073866\n",
       "1   Carousel           160689.0             6541.0             0.040706\n",
       "2       Link           232465.0             2257.0             0.009709"
      ]
     },
     "execution_count": 112,
     "metadata": {},
     "output_type": "execute_result"
    }
   ],
   "source": [
    "media_type_data['Media Type Averages'] = media_type_data['Total Engagements']/media_type_data['Total Impressions']\n",
    "media_type_data.sort_values(by=['Media Type Averages'], ascending=False)"
   ]
  },
  {
   "cell_type": "markdown",
   "id": "5b56f957-d472-4141-9e7a-ff736cdf8c3b",
   "metadata": {},
   "source": [
    "#### Based off averages, the `Album` media type performs best; however, the `Total Impressions` and `Total Engagements` are low, so we shouldn't focus on this. Photo, Video, Text, and Mixed are all relatively close to one another, but we should also focus less on Link, since it has less than 1% average engagement."
   ]
  },
  {
   "cell_type": "code",
   "execution_count": 113,
   "id": "3dd6773a-c8c7-4809-9f9d-6bee36521caa",
   "metadata": {},
   "outputs": [
    {
     "data": {
      "text/html": [
       "<div>\n",
       "<style scoped>\n",
       "    .dataframe tbody tr th:only-of-type {\n",
       "        vertical-align: middle;\n",
       "    }\n",
       "\n",
       "    .dataframe tbody tr th {\n",
       "        vertical-align: top;\n",
       "    }\n",
       "\n",
       "    .dataframe thead th {\n",
       "        text-align: right;\n",
       "    }\n",
       "</style>\n",
       "<table border=\"1\" class=\"dataframe\">\n",
       "  <thead>\n",
       "    <tr style=\"text-align: right;\">\n",
       "      <th></th>\n",
       "      <th>Campaign Name</th>\n",
       "      <th>Total Impressions</th>\n",
       "      <th>Total Engagements</th>\n",
       "    </tr>\n",
       "  </thead>\n",
       "  <tbody>\n",
       "    <tr>\n",
       "      <th>0</th>\n",
       "      <td>Community Engagement</td>\n",
       "      <td>23803756.0</td>\n",
       "      <td>2044767.0</td>\n",
       "    </tr>\n",
       "    <tr>\n",
       "      <th>3</th>\n",
       "      <td>N/A</td>\n",
       "      <td>7298086.0</td>\n",
       "      <td>1022773.0</td>\n",
       "    </tr>\n",
       "    <tr>\n",
       "      <th>2</th>\n",
       "      <td>Evil Exhibited</td>\n",
       "      <td>5742595.0</td>\n",
       "      <td>185305.0</td>\n",
       "    </tr>\n",
       "    <tr>\n",
       "      <th>1</th>\n",
       "      <td>Evergreen</td>\n",
       "      <td>1328729.0</td>\n",
       "      <td>43127.0</td>\n",
       "    </tr>\n",
       "  </tbody>\n",
       "</table>\n",
       "</div>"
      ],
      "text/plain": [
       "           Campaign Name  Total Impressions  Total Engagements\n",
       "0  Community Engagement          23803756.0          2044767.0\n",
       "3                   N/A           7298086.0          1022773.0\n",
       "2        Evil Exhibited           5742595.0           185305.0\n",
       "1             Evergreen           1328729.0            43127.0"
      ]
     },
     "execution_count": 113,
     "metadata": {},
     "output_type": "execute_result"
    }
   ],
   "source": [
    "campaign_data = data.groupby(['Campaign Name']).sum().reset_index()\n",
    "campaign_data.sort_values(by=['Total Engagements'], ascending=False)"
   ]
  },
  {
   "cell_type": "code",
   "execution_count": 114,
   "id": "d791e5a6-8c25-47f5-b59c-549097294ec6",
   "metadata": {},
   "outputs": [
    {
     "data": {
      "text/html": [
       "<div>\n",
       "<style scoped>\n",
       "    .dataframe tbody tr th:only-of-type {\n",
       "        vertical-align: middle;\n",
       "    }\n",
       "\n",
       "    .dataframe tbody tr th {\n",
       "        vertical-align: top;\n",
       "    }\n",
       "\n",
       "    .dataframe thead th {\n",
       "        text-align: right;\n",
       "    }\n",
       "</style>\n",
       "<table border=\"1\" class=\"dataframe\">\n",
       "  <thead>\n",
       "    <tr style=\"text-align: right;\">\n",
       "      <th></th>\n",
       "      <th>Campaign Name</th>\n",
       "      <th>Total Impressions</th>\n",
       "      <th>Total Engagements</th>\n",
       "      <th>Campaign Averages</th>\n",
       "    </tr>\n",
       "  </thead>\n",
       "  <tbody>\n",
       "    <tr>\n",
       "      <th>3</th>\n",
       "      <td>N/A</td>\n",
       "      <td>7298086.0</td>\n",
       "      <td>1022773.0</td>\n",
       "      <td>0.140143</td>\n",
       "    </tr>\n",
       "    <tr>\n",
       "      <th>0</th>\n",
       "      <td>Community Engagement</td>\n",
       "      <td>23803756.0</td>\n",
       "      <td>2044767.0</td>\n",
       "      <td>0.085901</td>\n",
       "    </tr>\n",
       "    <tr>\n",
       "      <th>1</th>\n",
       "      <td>Evergreen</td>\n",
       "      <td>1328729.0</td>\n",
       "      <td>43127.0</td>\n",
       "      <td>0.032457</td>\n",
       "    </tr>\n",
       "    <tr>\n",
       "      <th>2</th>\n",
       "      <td>Evil Exhibited</td>\n",
       "      <td>5742595.0</td>\n",
       "      <td>185305.0</td>\n",
       "      <td>0.032269</td>\n",
       "    </tr>\n",
       "  </tbody>\n",
       "</table>\n",
       "</div>"
      ],
      "text/plain": [
       "           Campaign Name  Total Impressions  Total Engagements  \\\n",
       "3                   N/A           7298086.0          1022773.0   \n",
       "0  Community Engagement          23803756.0          2044767.0   \n",
       "1             Evergreen           1328729.0            43127.0   \n",
       "2        Evil Exhibited           5742595.0           185305.0   \n",
       "\n",
       "   Campaign Averages  \n",
       "3           0.140143  \n",
       "0           0.085901  \n",
       "1           0.032457  \n",
       "2           0.032269  "
      ]
     },
     "execution_count": 114,
     "metadata": {},
     "output_type": "execute_result"
    }
   ],
   "source": [
    "campaign_data['Campaign Averages'] = campaign_data['Total Engagements']/campaign_data['Total Impressions']\n",
    "campaign_data.sort_values(by=['Campaign Averages'], ascending=False)"
   ]
  },
  {
   "cell_type": "markdown",
   "id": "cd0159dd-9e4e-4060-b6e5-46c5cf42cc67",
   "metadata": {},
   "source": [
    "#### We found that most users are active at around `5am`, specifically on `Tuesdays`. Posting content during this hour and that day will be beneficial in terms of upping engagement totals as well as averages. We also saw that the `Photo` media type was the most used and had a fairly high engagement average as well. I suggest we focus more time into the `Photo` media type and least on `Links`. In terms of Campaigns, `Community Engagement` was the leader. With a fairly high average engagement level as well as very high total engagement and reach, this should be a main point of focus for the social media team."
   ]
  },
  {
   "cell_type": "code",
   "execution_count": 115,
   "id": "ecb8bcf6-5519-4220-b661-5c4483bba17b",
   "metadata": {},
   "outputs": [
    {
     "data": {
      "text/html": [
       "<div>\n",
       "<style scoped>\n",
       "    .dataframe tbody tr th:only-of-type {\n",
       "        vertical-align: middle;\n",
       "    }\n",
       "\n",
       "    .dataframe tbody tr th {\n",
       "        vertical-align: top;\n",
       "    }\n",
       "\n",
       "    .dataframe thead th {\n",
       "        text-align: right;\n",
       "    }\n",
       "</style>\n",
       "<table border=\"1\" class=\"dataframe\">\n",
       "  <thead>\n",
       "    <tr style=\"text-align: right;\">\n",
       "      <th></th>\n",
       "      <th>Account Type</th>\n",
       "      <th>Total Impressions</th>\n",
       "      <th>Total Engagements</th>\n",
       "    </tr>\n",
       "  </thead>\n",
       "  <tbody>\n",
       "    <tr>\n",
       "      <th>0</th>\n",
       "      <td>FBPAGE</td>\n",
       "      <td>14473148.0</td>\n",
       "      <td>2577284.0</td>\n",
       "    </tr>\n",
       "    <tr>\n",
       "      <th>4</th>\n",
       "      <td>TWITTER</td>\n",
       "      <td>19500596.0</td>\n",
       "      <td>604559.0</td>\n",
       "    </tr>\n",
       "    <tr>\n",
       "      <th>1</th>\n",
       "      <td>INSTAGRAM</td>\n",
       "      <td>3574059.0</td>\n",
       "      <td>84087.0</td>\n",
       "    </tr>\n",
       "    <tr>\n",
       "      <th>3</th>\n",
       "      <td>TIKTOK_BUSINESS</td>\n",
       "      <td>344159.0</td>\n",
       "      <td>18865.0</td>\n",
       "    </tr>\n",
       "    <tr>\n",
       "      <th>5</th>\n",
       "      <td>YOUTUBE</td>\n",
       "      <td>238403.0</td>\n",
       "      <td>10328.0</td>\n",
       "    </tr>\n",
       "    <tr>\n",
       "      <th>2</th>\n",
       "      <td>LINKEDIN_COMPANY</td>\n",
       "      <td>42801.0</td>\n",
       "      <td>849.0</td>\n",
       "    </tr>\n",
       "  </tbody>\n",
       "</table>\n",
       "</div>"
      ],
      "text/plain": [
       "       Account Type  Total Impressions  Total Engagements\n",
       "0            FBPAGE         14473148.0          2577284.0\n",
       "4           TWITTER         19500596.0           604559.0\n",
       "1         INSTAGRAM          3574059.0            84087.0\n",
       "3   TIKTOK_BUSINESS           344159.0            18865.0\n",
       "5           YOUTUBE           238403.0            10328.0\n",
       "2  LINKEDIN_COMPANY            42801.0              849.0"
      ]
     },
     "execution_count": 115,
     "metadata": {},
     "output_type": "execute_result"
    }
   ],
   "source": [
    "platform_type_data = data.groupby(['Account Type']).sum().reset_index()\n",
    "platform_type_data.sort_values(by=['Total Engagements'], ascending=False)"
   ]
  },
  {
   "cell_type": "code",
   "execution_count": 116,
   "id": "44f25f20-6ab8-4fd5-9e79-de5f7e17749a",
   "metadata": {},
   "outputs": [
    {
     "data": {
      "text/html": [
       "<div>\n",
       "<style scoped>\n",
       "    .dataframe tbody tr th:only-of-type {\n",
       "        vertical-align: middle;\n",
       "    }\n",
       "\n",
       "    .dataframe tbody tr th {\n",
       "        vertical-align: top;\n",
       "    }\n",
       "\n",
       "    .dataframe thead th {\n",
       "        text-align: right;\n",
       "    }\n",
       "</style>\n",
       "<table border=\"1\" class=\"dataframe\">\n",
       "  <thead>\n",
       "    <tr style=\"text-align: right;\">\n",
       "      <th></th>\n",
       "      <th>Account Type</th>\n",
       "      <th>Total Impressions</th>\n",
       "      <th>Total Engagements</th>\n",
       "      <th>Platform Averages</th>\n",
       "    </tr>\n",
       "  </thead>\n",
       "  <tbody>\n",
       "    <tr>\n",
       "      <th>0</th>\n",
       "      <td>FBPAGE</td>\n",
       "      <td>14473148.0</td>\n",
       "      <td>2577284.0</td>\n",
       "      <td>0.178073</td>\n",
       "    </tr>\n",
       "    <tr>\n",
       "      <th>3</th>\n",
       "      <td>TIKTOK_BUSINESS</td>\n",
       "      <td>344159.0</td>\n",
       "      <td>18865.0</td>\n",
       "      <td>0.054815</td>\n",
       "    </tr>\n",
       "    <tr>\n",
       "      <th>5</th>\n",
       "      <td>YOUTUBE</td>\n",
       "      <td>238403.0</td>\n",
       "      <td>10328.0</td>\n",
       "      <td>0.043322</td>\n",
       "    </tr>\n",
       "    <tr>\n",
       "      <th>4</th>\n",
       "      <td>TWITTER</td>\n",
       "      <td>19500596.0</td>\n",
       "      <td>604559.0</td>\n",
       "      <td>0.031002</td>\n",
       "    </tr>\n",
       "    <tr>\n",
       "      <th>1</th>\n",
       "      <td>INSTAGRAM</td>\n",
       "      <td>3574059.0</td>\n",
       "      <td>84087.0</td>\n",
       "      <td>0.023527</td>\n",
       "    </tr>\n",
       "    <tr>\n",
       "      <th>2</th>\n",
       "      <td>LINKEDIN_COMPANY</td>\n",
       "      <td>42801.0</td>\n",
       "      <td>849.0</td>\n",
       "      <td>0.019836</td>\n",
       "    </tr>\n",
       "  </tbody>\n",
       "</table>\n",
       "</div>"
      ],
      "text/plain": [
       "       Account Type  Total Impressions  Total Engagements  Platform Averages\n",
       "0            FBPAGE         14473148.0          2577284.0           0.178073\n",
       "3   TIKTOK_BUSINESS           344159.0            18865.0           0.054815\n",
       "5           YOUTUBE           238403.0            10328.0           0.043322\n",
       "4           TWITTER         19500596.0           604559.0           0.031002\n",
       "1         INSTAGRAM          3574059.0            84087.0           0.023527\n",
       "2  LINKEDIN_COMPANY            42801.0              849.0           0.019836"
      ]
     },
     "execution_count": 116,
     "metadata": {},
     "output_type": "execute_result"
    }
   ],
   "source": [
    "platform_type_data['Platform Averages'] = platform_type_data['Total Engagements']/platform_type_data['Total Impressions']\n",
    "platform_type_data.sort_values(by=['Platform Averages'], ascending=False)"
   ]
  },
  {
   "cell_type": "code",
   "execution_count": 122,
   "id": "fda6724d-5260-4476-884f-8cee764271e4",
   "metadata": {},
   "outputs": [],
   "source": [
    "from sklearn.cluster import AgglomerativeClustering\n",
    "\n",
    "clustering_model = AgglomerativeClustering(n_clusters=3, linkage='ward')\n",
    "clustering_model.fit(data.iloc[:, 4:5])\n",
    "labels = clustering_model.labels_"
   ]
  },
  {
   "cell_type": "code",
   "execution_count": 124,
   "id": "f9653498-8f56-4e39-905e-22dd57f5f9f0",
   "metadata": {},
   "outputs": [
    {
     "ename": "ValueError",
     "evalue": "Could not interpret value `Total Engagements` for parameter `x`",
     "output_type": "error",
     "traceback": [
      "\u001b[1;31m---------------------------------------------------------------------------\u001b[0m",
      "\u001b[1;31mValueError\u001b[0m                                Traceback (most recent call last)",
      "Input \u001b[1;32mIn [124]\u001b[0m, in \u001b[0;36m<cell line: 1>\u001b[1;34m()\u001b[0m\n\u001b[1;32m----> 1\u001b[0m \u001b[43msns\u001b[49m\u001b[38;5;241;43m.\u001b[39;49m\u001b[43mscatterplot\u001b[49m\u001b[43m(\u001b[49m\u001b[43mdata\u001b[49m\u001b[38;5;241;43m=\u001b[39;49m\u001b[43mdata\u001b[49m\u001b[38;5;241;43m.\u001b[39;49m\u001b[43miloc\u001b[49m\u001b[43m[\u001b[49m\u001b[43m:\u001b[49m\u001b[43m,\u001b[49m\u001b[43m \u001b[49m\u001b[38;5;241;43m4\u001b[39;49m\u001b[43m:\u001b[49m\u001b[38;5;241;43m5\u001b[39;49m\u001b[43m]\u001b[49m\u001b[43m,\u001b[49m\u001b[43m \u001b[49m\u001b[43mx\u001b[49m\u001b[38;5;241;43m=\u001b[39;49m\u001b[38;5;124;43m'\u001b[39;49m\u001b[38;5;124;43mTotal Engagements\u001b[39;49m\u001b[38;5;124;43m'\u001b[39;49m\u001b[43m,\u001b[49m\u001b[43m \u001b[49m\u001b[43my\u001b[49m\u001b[38;5;241;43m=\u001b[39;49m\u001b[38;5;124;43m'\u001b[39;49m\u001b[38;5;124;43mTotal Impressions\u001b[39;49m\u001b[38;5;124;43m'\u001b[39;49m\u001b[43m,\u001b[49m\u001b[43m \u001b[49m\u001b[43mhue\u001b[49m\u001b[38;5;241;43m=\u001b[39;49m\u001b[43mclustering_model\u001b[49m\u001b[38;5;241;43m.\u001b[39;49m\u001b[43mlabels_\u001b[49m\u001b[43m)\u001b[49m\n",
      "File \u001b[1;32m~\\anaconda3\\lib\\site-packages\\seaborn\\_decorators.py:46\u001b[0m, in \u001b[0;36m_deprecate_positional_args.<locals>.inner_f\u001b[1;34m(*args, **kwargs)\u001b[0m\n\u001b[0;32m     36\u001b[0m     warnings\u001b[38;5;241m.\u001b[39mwarn(\n\u001b[0;32m     37\u001b[0m         \u001b[38;5;124m\"\u001b[39m\u001b[38;5;124mPass the following variable\u001b[39m\u001b[38;5;132;01m{}\u001b[39;00m\u001b[38;5;124m as \u001b[39m\u001b[38;5;132;01m{}\u001b[39;00m\u001b[38;5;124mkeyword arg\u001b[39m\u001b[38;5;132;01m{}\u001b[39;00m\u001b[38;5;124m: \u001b[39m\u001b[38;5;132;01m{}\u001b[39;00m\u001b[38;5;124m. \u001b[39m\u001b[38;5;124m\"\u001b[39m\n\u001b[0;32m     38\u001b[0m         \u001b[38;5;124m\"\u001b[39m\u001b[38;5;124mFrom version 0.12, the only valid positional argument \u001b[39m\u001b[38;5;124m\"\u001b[39m\n\u001b[1;32m   (...)\u001b[0m\n\u001b[0;32m     43\u001b[0m         \u001b[38;5;167;01mFutureWarning\u001b[39;00m\n\u001b[0;32m     44\u001b[0m     )\n\u001b[0;32m     45\u001b[0m kwargs\u001b[38;5;241m.\u001b[39mupdate({k: arg \u001b[38;5;28;01mfor\u001b[39;00m k, arg \u001b[38;5;129;01min\u001b[39;00m \u001b[38;5;28mzip\u001b[39m(sig\u001b[38;5;241m.\u001b[39mparameters, args)})\n\u001b[1;32m---> 46\u001b[0m \u001b[38;5;28;01mreturn\u001b[39;00m f(\u001b[38;5;241m*\u001b[39m\u001b[38;5;241m*\u001b[39mkwargs)\n",
      "File \u001b[1;32m~\\anaconda3\\lib\\site-packages\\seaborn\\relational.py:808\u001b[0m, in \u001b[0;36mscatterplot\u001b[1;34m(x, y, hue, style, size, data, palette, hue_order, hue_norm, sizes, size_order, size_norm, markers, style_order, x_bins, y_bins, units, estimator, ci, n_boot, alpha, x_jitter, y_jitter, legend, ax, **kwargs)\u001b[0m\n\u001b[0;32m    793\u001b[0m \u001b[38;5;129m@_deprecate_positional_args\u001b[39m\n\u001b[0;32m    794\u001b[0m \u001b[38;5;28;01mdef\u001b[39;00m \u001b[38;5;21mscatterplot\u001b[39m(\n\u001b[0;32m    795\u001b[0m     \u001b[38;5;241m*\u001b[39m,\n\u001b[1;32m   (...)\u001b[0m\n\u001b[0;32m    804\u001b[0m     legend\u001b[38;5;241m=\u001b[39m\u001b[38;5;124m\"\u001b[39m\u001b[38;5;124mauto\u001b[39m\u001b[38;5;124m\"\u001b[39m, ax\u001b[38;5;241m=\u001b[39m\u001b[38;5;28;01mNone\u001b[39;00m, \u001b[38;5;241m*\u001b[39m\u001b[38;5;241m*\u001b[39mkwargs\n\u001b[0;32m    805\u001b[0m ):\n\u001b[0;32m    807\u001b[0m     variables \u001b[38;5;241m=\u001b[39m _ScatterPlotter\u001b[38;5;241m.\u001b[39mget_semantics(\u001b[38;5;28mlocals\u001b[39m())\n\u001b[1;32m--> 808\u001b[0m     p \u001b[38;5;241m=\u001b[39m \u001b[43m_ScatterPlotter\u001b[49m\u001b[43m(\u001b[49m\n\u001b[0;32m    809\u001b[0m \u001b[43m        \u001b[49m\u001b[43mdata\u001b[49m\u001b[38;5;241;43m=\u001b[39;49m\u001b[43mdata\u001b[49m\u001b[43m,\u001b[49m\u001b[43m \u001b[49m\u001b[43mvariables\u001b[49m\u001b[38;5;241;43m=\u001b[39;49m\u001b[43mvariables\u001b[49m\u001b[43m,\u001b[49m\n\u001b[0;32m    810\u001b[0m \u001b[43m        \u001b[49m\u001b[43mx_bins\u001b[49m\u001b[38;5;241;43m=\u001b[39;49m\u001b[43mx_bins\u001b[49m\u001b[43m,\u001b[49m\u001b[43m \u001b[49m\u001b[43my_bins\u001b[49m\u001b[38;5;241;43m=\u001b[39;49m\u001b[43my_bins\u001b[49m\u001b[43m,\u001b[49m\n\u001b[0;32m    811\u001b[0m \u001b[43m        \u001b[49m\u001b[43mestimator\u001b[49m\u001b[38;5;241;43m=\u001b[39;49m\u001b[43mestimator\u001b[49m\u001b[43m,\u001b[49m\u001b[43m \u001b[49m\u001b[43mci\u001b[49m\u001b[38;5;241;43m=\u001b[39;49m\u001b[43mci\u001b[49m\u001b[43m,\u001b[49m\u001b[43m \u001b[49m\u001b[43mn_boot\u001b[49m\u001b[38;5;241;43m=\u001b[39;49m\u001b[43mn_boot\u001b[49m\u001b[43m,\u001b[49m\n\u001b[0;32m    812\u001b[0m \u001b[43m        \u001b[49m\u001b[43malpha\u001b[49m\u001b[38;5;241;43m=\u001b[39;49m\u001b[43malpha\u001b[49m\u001b[43m,\u001b[49m\u001b[43m \u001b[49m\u001b[43mx_jitter\u001b[49m\u001b[38;5;241;43m=\u001b[39;49m\u001b[43mx_jitter\u001b[49m\u001b[43m,\u001b[49m\u001b[43m \u001b[49m\u001b[43my_jitter\u001b[49m\u001b[38;5;241;43m=\u001b[39;49m\u001b[43my_jitter\u001b[49m\u001b[43m,\u001b[49m\u001b[43m \u001b[49m\u001b[43mlegend\u001b[49m\u001b[38;5;241;43m=\u001b[39;49m\u001b[43mlegend\u001b[49m\u001b[43m,\u001b[49m\n\u001b[0;32m    813\u001b[0m \u001b[43m    \u001b[49m\u001b[43m)\u001b[49m\n\u001b[0;32m    815\u001b[0m     p\u001b[38;5;241m.\u001b[39mmap_hue(palette\u001b[38;5;241m=\u001b[39mpalette, order\u001b[38;5;241m=\u001b[39mhue_order, norm\u001b[38;5;241m=\u001b[39mhue_norm)\n\u001b[0;32m    816\u001b[0m     p\u001b[38;5;241m.\u001b[39mmap_size(sizes\u001b[38;5;241m=\u001b[39msizes, order\u001b[38;5;241m=\u001b[39msize_order, norm\u001b[38;5;241m=\u001b[39msize_norm)\n",
      "File \u001b[1;32m~\\anaconda3\\lib\\site-packages\\seaborn\\relational.py:587\u001b[0m, in \u001b[0;36m_ScatterPlotter.__init__\u001b[1;34m(self, data, variables, x_bins, y_bins, estimator, ci, n_boot, alpha, x_jitter, y_jitter, legend)\u001b[0m\n\u001b[0;32m    571\u001b[0m \u001b[38;5;28;01mdef\u001b[39;00m \u001b[38;5;21m__init__\u001b[39m(\n\u001b[0;32m    572\u001b[0m     \u001b[38;5;28mself\u001b[39m, \u001b[38;5;241m*\u001b[39m,\n\u001b[0;32m    573\u001b[0m     data\u001b[38;5;241m=\u001b[39m\u001b[38;5;28;01mNone\u001b[39;00m, variables\u001b[38;5;241m=\u001b[39m{},\n\u001b[1;32m   (...)\u001b[0m\n\u001b[0;32m    581\u001b[0m     \u001b[38;5;66;03m# the kind of plot to draw, but for the time being we need to set\u001b[39;00m\n\u001b[0;32m    582\u001b[0m     \u001b[38;5;66;03m# this information so the SizeMapping can use it\u001b[39;00m\n\u001b[0;32m    583\u001b[0m     \u001b[38;5;28mself\u001b[39m\u001b[38;5;241m.\u001b[39m_default_size_range \u001b[38;5;241m=\u001b[39m (\n\u001b[0;32m    584\u001b[0m         np\u001b[38;5;241m.\u001b[39mr_[\u001b[38;5;241m.5\u001b[39m, \u001b[38;5;241m2\u001b[39m] \u001b[38;5;241m*\u001b[39m np\u001b[38;5;241m.\u001b[39msquare(mpl\u001b[38;5;241m.\u001b[39mrcParams[\u001b[38;5;124m\"\u001b[39m\u001b[38;5;124mlines.markersize\u001b[39m\u001b[38;5;124m\"\u001b[39m])\n\u001b[0;32m    585\u001b[0m     )\n\u001b[1;32m--> 587\u001b[0m     \u001b[38;5;28;43msuper\u001b[39;49m\u001b[43m(\u001b[49m\u001b[43m)\u001b[49m\u001b[38;5;241;43m.\u001b[39;49m\u001b[38;5;21;43m__init__\u001b[39;49m\u001b[43m(\u001b[49m\u001b[43mdata\u001b[49m\u001b[38;5;241;43m=\u001b[39;49m\u001b[43mdata\u001b[49m\u001b[43m,\u001b[49m\u001b[43m \u001b[49m\u001b[43mvariables\u001b[49m\u001b[38;5;241;43m=\u001b[39;49m\u001b[43mvariables\u001b[49m\u001b[43m)\u001b[49m\n\u001b[0;32m    589\u001b[0m     \u001b[38;5;28mself\u001b[39m\u001b[38;5;241m.\u001b[39malpha \u001b[38;5;241m=\u001b[39m alpha\n\u001b[0;32m    590\u001b[0m     \u001b[38;5;28mself\u001b[39m\u001b[38;5;241m.\u001b[39mlegend \u001b[38;5;241m=\u001b[39m legend\n",
      "File \u001b[1;32m~\\anaconda3\\lib\\site-packages\\seaborn\\_core.py:605\u001b[0m, in \u001b[0;36mVectorPlotter.__init__\u001b[1;34m(self, data, variables)\u001b[0m\n\u001b[0;32m    603\u001b[0m \u001b[38;5;28;01mdef\u001b[39;00m \u001b[38;5;21m__init__\u001b[39m(\u001b[38;5;28mself\u001b[39m, data\u001b[38;5;241m=\u001b[39m\u001b[38;5;28;01mNone\u001b[39;00m, variables\u001b[38;5;241m=\u001b[39m{}):\n\u001b[1;32m--> 605\u001b[0m     \u001b[38;5;28;43mself\u001b[39;49m\u001b[38;5;241;43m.\u001b[39;49m\u001b[43massign_variables\u001b[49m\u001b[43m(\u001b[49m\u001b[43mdata\u001b[49m\u001b[43m,\u001b[49m\u001b[43m \u001b[49m\u001b[43mvariables\u001b[49m\u001b[43m)\u001b[49m\n\u001b[0;32m    607\u001b[0m     \u001b[38;5;28;01mfor\u001b[39;00m var, \u001b[38;5;28mcls\u001b[39m \u001b[38;5;129;01min\u001b[39;00m \u001b[38;5;28mself\u001b[39m\u001b[38;5;241m.\u001b[39m_semantic_mappings\u001b[38;5;241m.\u001b[39mitems():\n\u001b[0;32m    608\u001b[0m \n\u001b[0;32m    609\u001b[0m         \u001b[38;5;66;03m# Create the mapping function\u001b[39;00m\n\u001b[0;32m    610\u001b[0m         map_func \u001b[38;5;241m=\u001b[39m partial(\u001b[38;5;28mcls\u001b[39m\u001b[38;5;241m.\u001b[39mmap, plotter\u001b[38;5;241m=\u001b[39m\u001b[38;5;28mself\u001b[39m)\n",
      "File \u001b[1;32m~\\anaconda3\\lib\\site-packages\\seaborn\\_core.py:668\u001b[0m, in \u001b[0;36mVectorPlotter.assign_variables\u001b[1;34m(self, data, variables)\u001b[0m\n\u001b[0;32m    666\u001b[0m \u001b[38;5;28;01melse\u001b[39;00m:\n\u001b[0;32m    667\u001b[0m     \u001b[38;5;28mself\u001b[39m\u001b[38;5;241m.\u001b[39minput_format \u001b[38;5;241m=\u001b[39m \u001b[38;5;124m\"\u001b[39m\u001b[38;5;124mlong\u001b[39m\u001b[38;5;124m\"\u001b[39m\n\u001b[1;32m--> 668\u001b[0m     plot_data, variables \u001b[38;5;241m=\u001b[39m \u001b[38;5;28mself\u001b[39m\u001b[38;5;241m.\u001b[39m_assign_variables_longform(\n\u001b[0;32m    669\u001b[0m         data, \u001b[38;5;241m*\u001b[39m\u001b[38;5;241m*\u001b[39mvariables,\n\u001b[0;32m    670\u001b[0m     )\n\u001b[0;32m    672\u001b[0m \u001b[38;5;28mself\u001b[39m\u001b[38;5;241m.\u001b[39mplot_data \u001b[38;5;241m=\u001b[39m plot_data\n\u001b[0;32m    673\u001b[0m \u001b[38;5;28mself\u001b[39m\u001b[38;5;241m.\u001b[39mvariables \u001b[38;5;241m=\u001b[39m variables\n",
      "File \u001b[1;32m~\\anaconda3\\lib\\site-packages\\seaborn\\_core.py:903\u001b[0m, in \u001b[0;36mVectorPlotter._assign_variables_longform\u001b[1;34m(self, data, **kwargs)\u001b[0m\n\u001b[0;32m    898\u001b[0m \u001b[38;5;28;01melif\u001b[39;00m \u001b[38;5;28misinstance\u001b[39m(val, (\u001b[38;5;28mstr\u001b[39m, \u001b[38;5;28mbytes\u001b[39m)):\n\u001b[0;32m    899\u001b[0m \n\u001b[0;32m    900\u001b[0m     \u001b[38;5;66;03m# This looks like a column name but we don't know what it means!\u001b[39;00m\n\u001b[0;32m    902\u001b[0m     err \u001b[38;5;241m=\u001b[39m \u001b[38;5;124mf\u001b[39m\u001b[38;5;124m\"\u001b[39m\u001b[38;5;124mCould not interpret value `\u001b[39m\u001b[38;5;132;01m{\u001b[39;00mval\u001b[38;5;132;01m}\u001b[39;00m\u001b[38;5;124m` for parameter `\u001b[39m\u001b[38;5;132;01m{\u001b[39;00mkey\u001b[38;5;132;01m}\u001b[39;00m\u001b[38;5;124m`\u001b[39m\u001b[38;5;124m\"\u001b[39m\n\u001b[1;32m--> 903\u001b[0m     \u001b[38;5;28;01mraise\u001b[39;00m \u001b[38;5;167;01mValueError\u001b[39;00m(err)\n\u001b[0;32m    905\u001b[0m \u001b[38;5;28;01melse\u001b[39;00m:\n\u001b[0;32m    906\u001b[0m \n\u001b[0;32m    907\u001b[0m     \u001b[38;5;66;03m# Otherwise, assume the value is itself data\u001b[39;00m\n\u001b[0;32m    908\u001b[0m \n\u001b[0;32m    909\u001b[0m     \u001b[38;5;66;03m# Raise when data object is present and a vector can't matched\u001b[39;00m\n\u001b[0;32m    910\u001b[0m     \u001b[38;5;28;01mif\u001b[39;00m \u001b[38;5;28misinstance\u001b[39m(data, pd\u001b[38;5;241m.\u001b[39mDataFrame) \u001b[38;5;129;01mand\u001b[39;00m \u001b[38;5;129;01mnot\u001b[39;00m \u001b[38;5;28misinstance\u001b[39m(val, pd\u001b[38;5;241m.\u001b[39mSeries):\n",
      "\u001b[1;31mValueError\u001b[0m: Could not interpret value `Total Engagements` for parameter `x`"
     ]
    }
   ],
   "source": [
    "sns.scatterplot(data=data.iloc[:, 4:5], x='Total Engagements', y='Total Impressions', hue=clustering_model.labels_)"
   ]
  },
  {
   "cell_type": "code",
   "execution_count": null,
   "id": "a460ec8b-b827-470b-8429-157d4f5628bf",
   "metadata": {},
   "outputs": [],
   "source": []
  }
 ],
 "metadata": {
  "kernelspec": {
   "display_name": "Python 3 (ipykernel)",
   "language": "python",
   "name": "python3"
  },
  "language_info": {
   "codemirror_mode": {
    "name": "ipython",
    "version": 3
   },
   "file_extension": ".py",
   "mimetype": "text/x-python",
   "name": "python",
   "nbconvert_exporter": "python",
   "pygments_lexer": "ipython3",
   "version": "3.9.12"
  }
 },
 "nbformat": 4,
 "nbformat_minor": 5
}
