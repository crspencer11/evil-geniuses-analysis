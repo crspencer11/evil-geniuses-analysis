{
 "cells": [
  {
   "cell_type": "code",
   "execution_count": 1,
   "id": "1d4c2a43-b77c-4e38-bf0d-d110bff58fa3",
   "metadata": {},
   "outputs": [],
   "source": [
    "# import necessary libraries\n",
    "import pandas as pd"
   ]
  },
  {
   "cell_type": "code",
   "execution_count": 2,
   "id": "91071852-35a8-49ec-90af-7e573dca7445",
   "metadata": {},
   "outputs": [
    {
     "data": {
      "text/html": [
       "<div>\n",
       "<style scoped>\n",
       "    .dataframe tbody tr th:only-of-type {\n",
       "        vertical-align: middle;\n",
       "    }\n",
       "\n",
       "    .dataframe tbody tr th {\n",
       "        vertical-align: top;\n",
       "    }\n",
       "\n",
       "    .dataframe thead th {\n",
       "        text-align: right;\n",
       "    }\n",
       "</style>\n",
       "<table border=\"1\" class=\"dataframe\">\n",
       "  <thead>\n",
       "    <tr style=\"text-align: right;\">\n",
       "      <th></th>\n",
       "      <th>Published Date</th>\n",
       "      <th>Account</th>\n",
       "      <th>Account Type</th>\n",
       "      <th>Campaign Name</th>\n",
       "      <th>Total Impressions</th>\n",
       "      <th>Total Engagements</th>\n",
       "      <th>Media Type</th>\n",
       "    </tr>\n",
       "  </thead>\n",
       "  <tbody>\n",
       "    <tr>\n",
       "      <th>0</th>\n",
       "      <td>2023-03-31 19:55:43.192</td>\n",
       "      <td>CSGO</td>\n",
       "      <td>TWITTER</td>\n",
       "      <td>N/A</td>\n",
       "      <td>0.0</td>\n",
       "      <td>0.0</td>\n",
       "      <td>Text</td>\n",
       "    </tr>\n",
       "    <tr>\n",
       "      <th>1</th>\n",
       "      <td>2023-03-31 19:49:35.243</td>\n",
       "      <td>CSGO</td>\n",
       "      <td>TWITTER</td>\n",
       "      <td>N/A</td>\n",
       "      <td>0.0</td>\n",
       "      <td>0.0</td>\n",
       "      <td>Text</td>\n",
       "    </tr>\n",
       "    <tr>\n",
       "      <th>2</th>\n",
       "      <td>2023-03-31 19:49:33.535</td>\n",
       "      <td>CSGO</td>\n",
       "      <td>TWITTER</td>\n",
       "      <td>N/A</td>\n",
       "      <td>0.0</td>\n",
       "      <td>0.0</td>\n",
       "      <td>Text</td>\n",
       "    </tr>\n",
       "    <tr>\n",
       "      <th>3</th>\n",
       "      <td>2023-03-31 19:49:31.583</td>\n",
       "      <td>CSGO</td>\n",
       "      <td>TWITTER</td>\n",
       "      <td>N/A</td>\n",
       "      <td>0.0</td>\n",
       "      <td>0.0</td>\n",
       "      <td>Text</td>\n",
       "    </tr>\n",
       "    <tr>\n",
       "      <th>4</th>\n",
       "      <td>2023-03-31 19:43:42.590</td>\n",
       "      <td>CSGO</td>\n",
       "      <td>TWITTER</td>\n",
       "      <td>Community Engagement</td>\n",
       "      <td>9517.0</td>\n",
       "      <td>1215.0</td>\n",
       "      <td>Video</td>\n",
       "    </tr>\n",
       "  </tbody>\n",
       "</table>\n",
       "</div>"
      ],
      "text/plain": [
       "           Published Date Account Account Type          Campaign Name  \\\n",
       "0 2023-03-31 19:55:43.192    CSGO      TWITTER                   N/A    \n",
       "1 2023-03-31 19:49:35.243    CSGO      TWITTER                   N/A    \n",
       "2 2023-03-31 19:49:33.535    CSGO      TWITTER                   N/A    \n",
       "3 2023-03-31 19:49:31.583    CSGO      TWITTER                   N/A    \n",
       "4 2023-03-31 19:43:42.590    CSGO      TWITTER  Community Engagement    \n",
       "\n",
       "   Total Impressions  Total Engagements Media Type  \n",
       "0                0.0                0.0       Text  \n",
       "1                0.0                0.0       Text  \n",
       "2                0.0                0.0       Text  \n",
       "3                0.0                0.0       Text  \n",
       "4             9517.0             1215.0      Video  "
      ]
     },
     "execution_count": 2,
     "metadata": {},
     "output_type": "execute_result"
    }
   ],
   "source": [
    "# assigning data to dataframe created from original excel file\n",
    "data = pd.read_excel('social_data.xlsx')\n",
    "data.head()"
   ]
  },
  {
   "cell_type": "code",
   "execution_count": 3,
   "id": "442cbe59-c34e-47d5-9ae2-5e94073396d5",
   "metadata": {},
   "outputs": [
    {
     "data": {
      "text/plain": [
       "(3479, 7)"
      ]
     },
     "execution_count": 3,
     "metadata": {},
     "output_type": "execute_result"
    }
   ],
   "source": [
    "# ensuring shape of dataframe\n",
    "data.shape"
   ]
  },
  {
   "cell_type": "code",
   "execution_count": 4,
   "id": "da53c5ed-90a2-4a42-af14-17e367265725",
   "metadata": {},
   "outputs": [
    {
     "data": {
      "text/plain": [
       "array(['CSGO', 'General ', 'DOTA2', 'Content Creators', 'Valorant',\n",
       "       'General'], dtype=object)"
      ]
     },
     "execution_count": 4,
     "metadata": {},
     "output_type": "execute_result"
    }
   ],
   "source": [
    "# finding unique values for Account feature\n",
    "data['Account'].unique()"
   ]
  },
  {
   "cell_type": "code",
   "execution_count": 5,
   "id": "7b140122-9a99-40a4-9404-aaee445ddb79",
   "metadata": {},
   "outputs": [
    {
     "data": {
      "text/plain": [
       "array(['TWITTER', 'FBPAGE', 'INSTAGRAM', 'TIKTOK_BUSINESS', 'YOUTUBE',\n",
       "       'LINKEDIN_COMPANY'], dtype=object)"
      ]
     },
     "execution_count": 5,
     "metadata": {},
     "output_type": "execute_result"
    }
   ],
   "source": [
    "# finding unique values for Account Type feature\n",
    "data['Account Type'].unique()"
   ]
  },
  {
   "cell_type": "code",
   "execution_count": 6,
   "id": "a2b433ef-a4ef-4269-9c84-1b04e21ebe11",
   "metadata": {},
   "outputs": [
    {
     "data": {
      "text/plain": [
       "array(['N/A ', 'Community Engagement ', 'Evergreen ', 'Evil Exhibited '],\n",
       "      dtype=object)"
      ]
     },
     "execution_count": 6,
     "metadata": {},
     "output_type": "execute_result"
    }
   ],
   "source": [
    "# finding unique values for Campaign Name feature\n",
    "data['Campaign Name'].unique()"
   ]
  },
  {
   "cell_type": "code",
   "execution_count": 7,
   "id": "2dbc6dff-3234-4f6d-ba45-78b0ab046128",
   "metadata": {},
   "outputs": [
    {
     "data": {
      "text/plain": [
       "array(['Text', 'Video', 'Photo', 'Link', 'Carousel', 'Mixed', 'Album'],\n",
       "      dtype=object)"
      ]
     },
     "execution_count": 7,
     "metadata": {},
     "output_type": "execute_result"
    }
   ],
   "source": [
    "# finding unique values for Media Type feature\n",
    "data['Media Type'].unique()"
   ]
  },
  {
   "cell_type": "code",
   "execution_count": 8,
   "id": "dea38c8f-3f24-416f-abf4-9f327fc41c61",
   "metadata": {},
   "outputs": [
    {
     "data": {
      "text/plain": [
       "0.08634264184427354"
      ]
     },
     "execution_count": 8,
     "metadata": {},
     "output_type": "execute_result"
    }
   ],
   "source": [
    "# find average engagement rate across entire dataset\n",
    "avg_engagement_rate = data['Total Engagements'].sum()/data['Total Impressions'].sum()\n",
    "avg_engagement_rate"
   ]
  },
  {
   "cell_type": "code",
   "execution_count": 9,
   "id": "782f47ab-43bc-43f7-909f-816358aa0e0a",
   "metadata": {},
   "outputs": [
    {
     "name": "stderr",
     "output_type": "stream",
     "text": [
      "C:\\Users\\cschow\\AppData\\Local\\Temp\\ipykernel_18232\\1760298334.py:6: RuntimeWarning: invalid value encountered in double_scalars\n",
      "  if engagement[a] / impressions[a] >= 0.15:\n"
     ]
    },
    {
     "data": {
      "text/plain": [
       "0.06496119574590399"
      ]
     },
     "execution_count": 9,
     "metadata": {},
     "output_type": "execute_result"
    }
   ],
   "source": [
    "def fifteen_percenters(engagement, impressions):\n",
    "    \"\"\"This function takes in the Total Engagement series as well as the Total Impressions series, finds each row's average, summing up \n",
    "    instances that exceed 15%, thus finding the proportion that do find the likelihood of getting at least 15% engagement rate.\"\"\"\n",
    "    i = 0\n",
    "    for a in range(0, data.shape[0]):\n",
    "        if engagement[a] / impressions[a] >= 0.15:\n",
    "            i += 1\n",
    "        else:\n",
    "            pass\n",
    "    return i / data.shape[0]\n",
    "    \n",
    "fifteen_percenters(data['Total Engagements'], data['Total Impressions'])"
   ]
  },
  {
   "cell_type": "code",
   "execution_count": 10,
   "id": "3e5f08ac-dbfb-42ab-92ea-7e3e711e7f2d",
   "metadata": {},
   "outputs": [
    {
     "data": {
      "text/html": [
       "<div>\n",
       "<style scoped>\n",
       "    .dataframe tbody tr th:only-of-type {\n",
       "        vertical-align: middle;\n",
       "    }\n",
       "\n",
       "    .dataframe tbody tr th {\n",
       "        vertical-align: top;\n",
       "    }\n",
       "\n",
       "    .dataframe thead th {\n",
       "        text-align: right;\n",
       "    }\n",
       "</style>\n",
       "<table border=\"1\" class=\"dataframe\">\n",
       "  <thead>\n",
       "    <tr style=\"text-align: right;\">\n",
       "      <th></th>\n",
       "      <th>Published Date</th>\n",
       "      <th>Account</th>\n",
       "      <th>Account Type</th>\n",
       "      <th>Campaign Name</th>\n",
       "      <th>Total Impressions</th>\n",
       "      <th>Total Engagements</th>\n",
       "      <th>Media Type</th>\n",
       "      <th>Month</th>\n",
       "      <th>Day</th>\n",
       "    </tr>\n",
       "  </thead>\n",
       "  <tbody>\n",
       "    <tr>\n",
       "      <th>0</th>\n",
       "      <td>2023-03-31 19:55:43.192</td>\n",
       "      <td>CSGO</td>\n",
       "      <td>TWITTER</td>\n",
       "      <td>N/A</td>\n",
       "      <td>0.0</td>\n",
       "      <td>0.0</td>\n",
       "      <td>Text</td>\n",
       "      <td>03</td>\n",
       "      <td>Friday</td>\n",
       "    </tr>\n",
       "    <tr>\n",
       "      <th>1</th>\n",
       "      <td>2023-03-31 19:49:35.243</td>\n",
       "      <td>CSGO</td>\n",
       "      <td>TWITTER</td>\n",
       "      <td>N/A</td>\n",
       "      <td>0.0</td>\n",
       "      <td>0.0</td>\n",
       "      <td>Text</td>\n",
       "      <td>03</td>\n",
       "      <td>Friday</td>\n",
       "    </tr>\n",
       "    <tr>\n",
       "      <th>2</th>\n",
       "      <td>2023-03-31 19:49:33.535</td>\n",
       "      <td>CSGO</td>\n",
       "      <td>TWITTER</td>\n",
       "      <td>N/A</td>\n",
       "      <td>0.0</td>\n",
       "      <td>0.0</td>\n",
       "      <td>Text</td>\n",
       "      <td>03</td>\n",
       "      <td>Friday</td>\n",
       "    </tr>\n",
       "    <tr>\n",
       "      <th>3</th>\n",
       "      <td>2023-03-31 19:49:31.583</td>\n",
       "      <td>CSGO</td>\n",
       "      <td>TWITTER</td>\n",
       "      <td>N/A</td>\n",
       "      <td>0.0</td>\n",
       "      <td>0.0</td>\n",
       "      <td>Text</td>\n",
       "      <td>03</td>\n",
       "      <td>Friday</td>\n",
       "    </tr>\n",
       "    <tr>\n",
       "      <th>4</th>\n",
       "      <td>2023-03-31 19:43:42.590</td>\n",
       "      <td>CSGO</td>\n",
       "      <td>TWITTER</td>\n",
       "      <td>Community Engagement</td>\n",
       "      <td>9517.0</td>\n",
       "      <td>1215.0</td>\n",
       "      <td>Video</td>\n",
       "      <td>03</td>\n",
       "      <td>Friday</td>\n",
       "    </tr>\n",
       "  </tbody>\n",
       "</table>\n",
       "</div>"
      ],
      "text/plain": [
       "           Published Date Account Account Type          Campaign Name  \\\n",
       "0 2023-03-31 19:55:43.192    CSGO      TWITTER                   N/A    \n",
       "1 2023-03-31 19:49:35.243    CSGO      TWITTER                   N/A    \n",
       "2 2023-03-31 19:49:33.535    CSGO      TWITTER                   N/A    \n",
       "3 2023-03-31 19:49:31.583    CSGO      TWITTER                   N/A    \n",
       "4 2023-03-31 19:43:42.590    CSGO      TWITTER  Community Engagement    \n",
       "\n",
       "   Total Impressions  Total Engagements Media Type Month     Day  \n",
       "0                0.0                0.0       Text    03  Friday  \n",
       "1                0.0                0.0       Text    03  Friday  \n",
       "2                0.0                0.0       Text    03  Friday  \n",
       "3                0.0                0.0       Text    03  Friday  \n",
       "4             9517.0             1215.0      Video    03  Friday  "
      ]
     },
     "execution_count": 10,
     "metadata": {},
     "output_type": "execute_result"
    }
   ],
   "source": [
    "# extracting month, day, and hour from Published Date and assigning them to newly created columns. \n",
    "from datetime import datetime\n",
    "\n",
    "data['Month'] = [x.strftime('%m') for x in data['Published Date']]\n",
    "data['Day'] = [y.strftime('%A') for y in data['Published Date']]\n",
    "data.head()"
   ]
  },
  {
   "cell_type": "code",
   "execution_count": 11,
   "id": "6e2d33a6-2d29-47e1-b09c-b499f681af76",
   "metadata": {},
   "outputs": [
    {
     "data": {
      "text/plain": [
       "array(['Friday', 'Thursday', 'Wednesday', 'Tuesday', 'Monday', 'Sunday',\n",
       "       'Saturday'], dtype=object)"
      ]
     },
     "execution_count": 11,
     "metadata": {},
     "output_type": "execute_result"
    }
   ],
   "source": [
    "data['Day'].unique()"
   ]
  },
  {
   "cell_type": "code",
   "execution_count": 12,
   "id": "f2d422f5-4a8c-4fb6-a936-b1e6b94d9d9b",
   "metadata": {},
   "outputs": [],
   "source": [
    "# groupby Day of the week only, subsequently adding up Total Impressions and Total Engagements\n",
    "day_data = data.groupby(['Day']).sum().reset_index()"
   ]
  },
  {
   "cell_type": "code",
   "execution_count": 13,
   "id": "b39afad3-3362-497d-9128-1ca102ec38a5",
   "metadata": {},
   "outputs": [
    {
     "data": {
      "text/html": [
       "<div>\n",
       "<style scoped>\n",
       "    .dataframe tbody tr th:only-of-type {\n",
       "        vertical-align: middle;\n",
       "    }\n",
       "\n",
       "    .dataframe tbody tr th {\n",
       "        vertical-align: top;\n",
       "    }\n",
       "\n",
       "    .dataframe thead th {\n",
       "        text-align: right;\n",
       "    }\n",
       "</style>\n",
       "<table border=\"1\" class=\"dataframe\">\n",
       "  <thead>\n",
       "    <tr style=\"text-align: right;\">\n",
       "      <th></th>\n",
       "      <th>Day</th>\n",
       "      <th>Total Impressions</th>\n",
       "      <th>Total Engagements</th>\n",
       "      <th>Daily Average</th>\n",
       "    </tr>\n",
       "  </thead>\n",
       "  <tbody>\n",
       "    <tr>\n",
       "      <th>3</th>\n",
       "      <td>Sunday</td>\n",
       "      <td>3731347.0</td>\n",
       "      <td>395480.0</td>\n",
       "      <td>0.105989</td>\n",
       "    </tr>\n",
       "    <tr>\n",
       "      <th>5</th>\n",
       "      <td>Tuesday</td>\n",
       "      <td>7197026.0</td>\n",
       "      <td>731487.0</td>\n",
       "      <td>0.101637</td>\n",
       "    </tr>\n",
       "    <tr>\n",
       "      <th>4</th>\n",
       "      <td>Thursday</td>\n",
       "      <td>8522704.0</td>\n",
       "      <td>764920.0</td>\n",
       "      <td>0.089751</td>\n",
       "    </tr>\n",
       "    <tr>\n",
       "      <th>0</th>\n",
       "      <td>Friday</td>\n",
       "      <td>7481113.0</td>\n",
       "      <td>642596.0</td>\n",
       "      <td>0.085896</td>\n",
       "    </tr>\n",
       "    <tr>\n",
       "      <th>6</th>\n",
       "      <td>Wednesday</td>\n",
       "      <td>5736454.0</td>\n",
       "      <td>448516.0</td>\n",
       "      <td>0.078187</td>\n",
       "    </tr>\n",
       "    <tr>\n",
       "      <th>1</th>\n",
       "      <td>Monday</td>\n",
       "      <td>2476029.0</td>\n",
       "      <td>166279.0</td>\n",
       "      <td>0.067156</td>\n",
       "    </tr>\n",
       "    <tr>\n",
       "      <th>2</th>\n",
       "      <td>Saturday</td>\n",
       "      <td>3028493.0</td>\n",
       "      <td>146694.0</td>\n",
       "      <td>0.048438</td>\n",
       "    </tr>\n",
       "  </tbody>\n",
       "</table>\n",
       "</div>"
      ],
      "text/plain": [
       "         Day  Total Impressions  Total Engagements  Daily Average\n",
       "3     Sunday          3731347.0           395480.0       0.105989\n",
       "5    Tuesday          7197026.0           731487.0       0.101637\n",
       "4   Thursday          8522704.0           764920.0       0.089751\n",
       "0     Friday          7481113.0           642596.0       0.085896\n",
       "6  Wednesday          5736454.0           448516.0       0.078187\n",
       "1     Monday          2476029.0           166279.0       0.067156\n",
       "2   Saturday          3028493.0           146694.0       0.048438"
      ]
     },
     "execution_count": 13,
     "metadata": {},
     "output_type": "execute_result"
    }
   ],
   "source": [
    "# finds average of each day, no matter what month and sorts them in descending order\n",
    "day_data['Daily Average'] = day_data['Total Engagements']/day_data['Total Impressions']\n",
    "day_data.sort_values(by=['Daily Average'], ascending=False)"
   ]
  },
  {
   "cell_type": "code",
   "execution_count": 14,
   "id": "abbd636e-130b-450f-868b-fb55a043efb9",
   "metadata": {},
   "outputs": [],
   "source": [
    "# similar as above, but including month as well\n",
    "monthly_data = data.groupby(['Day', 'Month']).sum().reset_index()"
   ]
  },
  {
   "cell_type": "code",
   "execution_count": 15,
   "id": "943babce-c0f8-45cf-90ab-c5767814ce5c",
   "metadata": {},
   "outputs": [
    {
     "data": {
      "text/html": [
       "<div>\n",
       "<style scoped>\n",
       "    .dataframe tbody tr th:only-of-type {\n",
       "        vertical-align: middle;\n",
       "    }\n",
       "\n",
       "    .dataframe tbody tr th {\n",
       "        vertical-align: top;\n",
       "    }\n",
       "\n",
       "    .dataframe thead th {\n",
       "        text-align: right;\n",
       "    }\n",
       "</style>\n",
       "<table border=\"1\" class=\"dataframe\">\n",
       "  <thead>\n",
       "    <tr style=\"text-align: right;\">\n",
       "      <th></th>\n",
       "      <th>Day</th>\n",
       "      <th>Month</th>\n",
       "      <th>Total Impressions</th>\n",
       "      <th>Total Engagements</th>\n",
       "      <th>Monthly Daily Average</th>\n",
       "    </tr>\n",
       "  </thead>\n",
       "  <tbody>\n",
       "    <tr>\n",
       "      <th>9</th>\n",
       "      <td>Sunday</td>\n",
       "      <td>01</td>\n",
       "      <td>1393921.0</td>\n",
       "      <td>178796.0</td>\n",
       "      <td>0.128268</td>\n",
       "    </tr>\n",
       "    <tr>\n",
       "      <th>12</th>\n",
       "      <td>Thursday</td>\n",
       "      <td>01</td>\n",
       "      <td>4040344.0</td>\n",
       "      <td>489420.0</td>\n",
       "      <td>0.121133</td>\n",
       "    </tr>\n",
       "    <tr>\n",
       "      <th>16</th>\n",
       "      <td>Tuesday</td>\n",
       "      <td>02</td>\n",
       "      <td>2117476.0</td>\n",
       "      <td>253600.0</td>\n",
       "      <td>0.119765</td>\n",
       "    </tr>\n",
       "    <tr>\n",
       "      <th>18</th>\n",
       "      <td>Wednesday</td>\n",
       "      <td>01</td>\n",
       "      <td>1163195.0</td>\n",
       "      <td>128537.0</td>\n",
       "      <td>0.110503</td>\n",
       "    </tr>\n",
       "    <tr>\n",
       "      <th>17</th>\n",
       "      <td>Tuesday</td>\n",
       "      <td>03</td>\n",
       "      <td>1109867.0</td>\n",
       "      <td>114700.0</td>\n",
       "      <td>0.103346</td>\n",
       "    </tr>\n",
       "    <tr>\n",
       "      <th>10</th>\n",
       "      <td>Sunday</td>\n",
       "      <td>02</td>\n",
       "      <td>1257659.0</td>\n",
       "      <td>128291.0</td>\n",
       "      <td>0.102008</td>\n",
       "    </tr>\n",
       "    <tr>\n",
       "      <th>2</th>\n",
       "      <td>Friday</td>\n",
       "      <td>03</td>\n",
       "      <td>4272897.0</td>\n",
       "      <td>395715.0</td>\n",
       "      <td>0.092610</td>\n",
       "    </tr>\n",
       "    <tr>\n",
       "      <th>15</th>\n",
       "      <td>Tuesday</td>\n",
       "      <td>01</td>\n",
       "      <td>3969683.0</td>\n",
       "      <td>363187.0</td>\n",
       "      <td>0.091490</td>\n",
       "    </tr>\n",
       "    <tr>\n",
       "      <th>3</th>\n",
       "      <td>Monday</td>\n",
       "      <td>01</td>\n",
       "      <td>713858.0</td>\n",
       "      <td>64802.0</td>\n",
       "      <td>0.090777</td>\n",
       "    </tr>\n",
       "    <tr>\n",
       "      <th>1</th>\n",
       "      <td>Friday</td>\n",
       "      <td>02</td>\n",
       "      <td>2711488.0</td>\n",
       "      <td>222259.0</td>\n",
       "      <td>0.081969</td>\n",
       "    </tr>\n",
       "    <tr>\n",
       "      <th>11</th>\n",
       "      <td>Sunday</td>\n",
       "      <td>03</td>\n",
       "      <td>1079767.0</td>\n",
       "      <td>88393.0</td>\n",
       "      <td>0.081863</td>\n",
       "    </tr>\n",
       "    <tr>\n",
       "      <th>20</th>\n",
       "      <td>Wednesday</td>\n",
       "      <td>03</td>\n",
       "      <td>2450374.0</td>\n",
       "      <td>198137.0</td>\n",
       "      <td>0.080860</td>\n",
       "    </tr>\n",
       "    <tr>\n",
       "      <th>4</th>\n",
       "      <td>Monday</td>\n",
       "      <td>02</td>\n",
       "      <td>756124.0</td>\n",
       "      <td>47563.0</td>\n",
       "      <td>0.062904</td>\n",
       "    </tr>\n",
       "    <tr>\n",
       "      <th>14</th>\n",
       "      <td>Thursday</td>\n",
       "      <td>03</td>\n",
       "      <td>2027869.0</td>\n",
       "      <td>125239.0</td>\n",
       "      <td>0.061759</td>\n",
       "    </tr>\n",
       "    <tr>\n",
       "      <th>13</th>\n",
       "      <td>Thursday</td>\n",
       "      <td>02</td>\n",
       "      <td>2454491.0</td>\n",
       "      <td>150261.0</td>\n",
       "      <td>0.061219</td>\n",
       "    </tr>\n",
       "    <tr>\n",
       "      <th>19</th>\n",
       "      <td>Wednesday</td>\n",
       "      <td>02</td>\n",
       "      <td>2122885.0</td>\n",
       "      <td>121842.0</td>\n",
       "      <td>0.057395</td>\n",
       "    </tr>\n",
       "    <tr>\n",
       "      <th>7</th>\n",
       "      <td>Saturday</td>\n",
       "      <td>02</td>\n",
       "      <td>1850490.0</td>\n",
       "      <td>104055.0</td>\n",
       "      <td>0.056231</td>\n",
       "    </tr>\n",
       "    <tr>\n",
       "      <th>5</th>\n",
       "      <td>Monday</td>\n",
       "      <td>03</td>\n",
       "      <td>1006047.0</td>\n",
       "      <td>53914.0</td>\n",
       "      <td>0.053590</td>\n",
       "    </tr>\n",
       "    <tr>\n",
       "      <th>0</th>\n",
       "      <td>Friday</td>\n",
       "      <td>01</td>\n",
       "      <td>496728.0</td>\n",
       "      <td>24622.0</td>\n",
       "      <td>0.049568</td>\n",
       "    </tr>\n",
       "    <tr>\n",
       "      <th>8</th>\n",
       "      <td>Saturday</td>\n",
       "      <td>03</td>\n",
       "      <td>873260.0</td>\n",
       "      <td>32402.0</td>\n",
       "      <td>0.037105</td>\n",
       "    </tr>\n",
       "    <tr>\n",
       "      <th>6</th>\n",
       "      <td>Saturday</td>\n",
       "      <td>01</td>\n",
       "      <td>304743.0</td>\n",
       "      <td>10237.0</td>\n",
       "      <td>0.033592</td>\n",
       "    </tr>\n",
       "  </tbody>\n",
       "</table>\n",
       "</div>"
      ],
      "text/plain": [
       "          Day Month  Total Impressions  Total Engagements  \\\n",
       "9      Sunday    01          1393921.0           178796.0   \n",
       "12   Thursday    01          4040344.0           489420.0   \n",
       "16    Tuesday    02          2117476.0           253600.0   \n",
       "18  Wednesday    01          1163195.0           128537.0   \n",
       "17    Tuesday    03          1109867.0           114700.0   \n",
       "10     Sunday    02          1257659.0           128291.0   \n",
       "2      Friday    03          4272897.0           395715.0   \n",
       "15    Tuesday    01          3969683.0           363187.0   \n",
       "3      Monday    01           713858.0            64802.0   \n",
       "1      Friday    02          2711488.0           222259.0   \n",
       "11     Sunday    03          1079767.0            88393.0   \n",
       "20  Wednesday    03          2450374.0           198137.0   \n",
       "4      Monday    02           756124.0            47563.0   \n",
       "14   Thursday    03          2027869.0           125239.0   \n",
       "13   Thursday    02          2454491.0           150261.0   \n",
       "19  Wednesday    02          2122885.0           121842.0   \n",
       "7    Saturday    02          1850490.0           104055.0   \n",
       "5      Monday    03          1006047.0            53914.0   \n",
       "0      Friday    01           496728.0            24622.0   \n",
       "8    Saturday    03           873260.0            32402.0   \n",
       "6    Saturday    01           304743.0            10237.0   \n",
       "\n",
       "    Monthly Daily Average  \n",
       "9                0.128268  \n",
       "12               0.121133  \n",
       "16               0.119765  \n",
       "18               0.110503  \n",
       "17               0.103346  \n",
       "10               0.102008  \n",
       "2                0.092610  \n",
       "15               0.091490  \n",
       "3                0.090777  \n",
       "1                0.081969  \n",
       "11               0.081863  \n",
       "20               0.080860  \n",
       "4                0.062904  \n",
       "14               0.061759  \n",
       "13               0.061219  \n",
       "19               0.057395  \n",
       "7                0.056231  \n",
       "5                0.053590  \n",
       "0                0.049568  \n",
       "8                0.037105  \n",
       "6                0.033592  "
      ]
     },
     "execution_count": 15,
     "metadata": {},
     "output_type": "execute_result"
    }
   ],
   "source": [
    "# calculates average engagement based on everyday for each month, sorting them in descending order\n",
    "monthly_data['Monthly Daily Average'] = monthly_data['Total Engagements']/monthly_data['Total Impressions']\n",
    "monthly_data.sort_values(by=['Monthly Daily Average'], ascending=False)"
   ]
  },
  {
   "cell_type": "markdown",
   "id": "4a9a6f6e-7ed5-49cc-909a-6efe1cc9b69c",
   "metadata": {},
   "source": [
    "#### Based on both outputs, we can see Sunday and Tuesday generally see higher average rates of engagement."
   ]
  }
 ],
 "metadata": {
  "kernelspec": {
   "display_name": "Python 3 (ipykernel)",
   "language": "python",
   "name": "python3"
  },
  "language_info": {
   "codemirror_mode": {
    "name": "ipython",
    "version": 3
   },
   "file_extension": ".py",
   "mimetype": "text/x-python",
   "name": "python",
   "nbconvert_exporter": "python",
   "pygments_lexer": "ipython3",
   "version": "3.9.12"
  }
 },
 "nbformat": 4,
 "nbformat_minor": 5
}
