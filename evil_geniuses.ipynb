{
 "cells": [
  {
   "cell_type": "code",
   "execution_count": 23,
   "id": "1d4c2a43-b77c-4e38-bf0d-d110bff58fa3",
   "metadata": {},
   "outputs": [],
   "source": [
    "# import necessary libraries\n",
    "import pandas as pd"
   ]
  },
  {
   "cell_type": "code",
   "execution_count": 24,
   "id": "91071852-35a8-49ec-90af-7e573dca7445",
   "metadata": {},
   "outputs": [
    {
     "data": {
      "text/html": [
       "<div>\n",
       "<style scoped>\n",
       "    .dataframe tbody tr th:only-of-type {\n",
       "        vertical-align: middle;\n",
       "    }\n",
       "\n",
       "    .dataframe tbody tr th {\n",
       "        vertical-align: top;\n",
       "    }\n",
       "\n",
       "    .dataframe thead th {\n",
       "        text-align: right;\n",
       "    }\n",
       "</style>\n",
       "<table border=\"1\" class=\"dataframe\">\n",
       "  <thead>\n",
       "    <tr style=\"text-align: right;\">\n",
       "      <th></th>\n",
       "      <th>Published Date</th>\n",
       "      <th>Account</th>\n",
       "      <th>Account Type</th>\n",
       "      <th>Campaign Name</th>\n",
       "      <th>Total Impressions</th>\n",
       "      <th>Total Engagements</th>\n",
       "      <th>Media Type</th>\n",
       "    </tr>\n",
       "  </thead>\n",
       "  <tbody>\n",
       "    <tr>\n",
       "      <th>0</th>\n",
       "      <td>2023-03-31 19:55:43.192</td>\n",
       "      <td>CSGO</td>\n",
       "      <td>TWITTER</td>\n",
       "      <td>N/A</td>\n",
       "      <td>0.0</td>\n",
       "      <td>0.0</td>\n",
       "      <td>Text</td>\n",
       "    </tr>\n",
       "    <tr>\n",
       "      <th>1</th>\n",
       "      <td>2023-03-31 19:49:35.243</td>\n",
       "      <td>CSGO</td>\n",
       "      <td>TWITTER</td>\n",
       "      <td>N/A</td>\n",
       "      <td>0.0</td>\n",
       "      <td>0.0</td>\n",
       "      <td>Text</td>\n",
       "    </tr>\n",
       "    <tr>\n",
       "      <th>2</th>\n",
       "      <td>2023-03-31 19:49:33.535</td>\n",
       "      <td>CSGO</td>\n",
       "      <td>TWITTER</td>\n",
       "      <td>N/A</td>\n",
       "      <td>0.0</td>\n",
       "      <td>0.0</td>\n",
       "      <td>Text</td>\n",
       "    </tr>\n",
       "    <tr>\n",
       "      <th>3</th>\n",
       "      <td>2023-03-31 19:49:31.583</td>\n",
       "      <td>CSGO</td>\n",
       "      <td>TWITTER</td>\n",
       "      <td>N/A</td>\n",
       "      <td>0.0</td>\n",
       "      <td>0.0</td>\n",
       "      <td>Text</td>\n",
       "    </tr>\n",
       "    <tr>\n",
       "      <th>4</th>\n",
       "      <td>2023-03-31 19:43:42.590</td>\n",
       "      <td>CSGO</td>\n",
       "      <td>TWITTER</td>\n",
       "      <td>Community Engagement</td>\n",
       "      <td>9517.0</td>\n",
       "      <td>1215.0</td>\n",
       "      <td>Video</td>\n",
       "    </tr>\n",
       "  </tbody>\n",
       "</table>\n",
       "</div>"
      ],
      "text/plain": [
       "           Published Date Account Account Type          Campaign Name  \\\n",
       "0 2023-03-31 19:55:43.192    CSGO      TWITTER                   N/A    \n",
       "1 2023-03-31 19:49:35.243    CSGO      TWITTER                   N/A    \n",
       "2 2023-03-31 19:49:33.535    CSGO      TWITTER                   N/A    \n",
       "3 2023-03-31 19:49:31.583    CSGO      TWITTER                   N/A    \n",
       "4 2023-03-31 19:43:42.590    CSGO      TWITTER  Community Engagement    \n",
       "\n",
       "   Total Impressions  Total Engagements Media Type  \n",
       "0                0.0                0.0       Text  \n",
       "1                0.0                0.0       Text  \n",
       "2                0.0                0.0       Text  \n",
       "3                0.0                0.0       Text  \n",
       "4             9517.0             1215.0      Video  "
      ]
     },
     "execution_count": 24,
     "metadata": {},
     "output_type": "execute_result"
    }
   ],
   "source": [
    "# assigning data to dataframe created from original excel file\n",
    "data = pd.read_excel('social_data.xlsx')\n",
    "data.head()"
   ]
  },
  {
   "cell_type": "code",
   "execution_count": 25,
   "id": "442cbe59-c34e-47d5-9ae2-5e94073396d5",
   "metadata": {},
   "outputs": [
    {
     "data": {
      "text/plain": [
       "(3479, 7)"
      ]
     },
     "execution_count": 25,
     "metadata": {},
     "output_type": "execute_result"
    }
   ],
   "source": [
    "# ensuring shape of dataframe\n",
    "data.shape"
   ]
  },
  {
   "cell_type": "code",
   "execution_count": 26,
   "id": "da53c5ed-90a2-4a42-af14-17e367265725",
   "metadata": {},
   "outputs": [
    {
     "data": {
      "text/plain": [
       "array(['CSGO', 'General ', 'DOTA2', 'Content Creators', 'Valorant',\n",
       "       'General'], dtype=object)"
      ]
     },
     "execution_count": 26,
     "metadata": {},
     "output_type": "execute_result"
    }
   ],
   "source": [
    "# finding unique values for Account feature\n",
    "data['Account'].unique()"
   ]
  },
  {
   "cell_type": "code",
   "execution_count": 27,
   "id": "7b140122-9a99-40a4-9404-aaee445ddb79",
   "metadata": {},
   "outputs": [
    {
     "data": {
      "text/plain": [
       "array(['TWITTER', 'FBPAGE', 'INSTAGRAM', 'TIKTOK_BUSINESS', 'YOUTUBE',\n",
       "       'LINKEDIN_COMPANY'], dtype=object)"
      ]
     },
     "execution_count": 27,
     "metadata": {},
     "output_type": "execute_result"
    }
   ],
   "source": [
    "# finding unique values for Account Type feature\n",
    "data['Account Type'].unique()"
   ]
  },
  {
   "cell_type": "code",
   "execution_count": 28,
   "id": "a2b433ef-a4ef-4269-9c84-1b04e21ebe11",
   "metadata": {},
   "outputs": [
    {
     "data": {
      "text/plain": [
       "array(['N/A ', 'Community Engagement ', 'Evergreen ', 'Evil Exhibited '],\n",
       "      dtype=object)"
      ]
     },
     "execution_count": 28,
     "metadata": {},
     "output_type": "execute_result"
    }
   ],
   "source": [
    "# finding unique values for Campaign Name feature\n",
    "data['Campaign Name'].unique()"
   ]
  },
  {
   "cell_type": "code",
   "execution_count": 29,
   "id": "2dbc6dff-3234-4f6d-ba45-78b0ab046128",
   "metadata": {},
   "outputs": [
    {
     "data": {
      "text/plain": [
       "array(['Text', 'Video', 'Photo', 'Link', 'Carousel', 'Mixed', 'Album'],\n",
       "      dtype=object)"
      ]
     },
     "execution_count": 29,
     "metadata": {},
     "output_type": "execute_result"
    }
   ],
   "source": [
    "# finding unique values for Media Type feature\n",
    "data['Media Type'].unique()"
   ]
  },
  {
   "cell_type": "code",
   "execution_count": 30,
   "id": "dea38c8f-3f24-416f-abf4-9f327fc41c61",
   "metadata": {},
   "outputs": [
    {
     "data": {
      "text/plain": [
       "0.08634264184427354"
      ]
     },
     "execution_count": 30,
     "metadata": {},
     "output_type": "execute_result"
    }
   ],
   "source": [
    "# find average engagement rate across entire dataset\n",
    "avg_engagement_rate = data['Total Engagements'].sum()/data['Total Impressions'].sum()\n",
    "avg_engagement_rate"
   ]
  },
  {
   "cell_type": "code",
   "execution_count": 31,
   "id": "782f47ab-43bc-43f7-909f-816358aa0e0a",
   "metadata": {},
   "outputs": [
    {
     "name": "stderr",
     "output_type": "stream",
     "text": [
      "C:\\Users\\cschow\\AppData\\Local\\Temp\\ipykernel_3612\\1760298334.py:6: RuntimeWarning: invalid value encountered in double_scalars\n",
      "  if engagement[a] / impressions[a] >= 0.15:\n"
     ]
    },
    {
     "data": {
      "text/plain": [
       "0.06496119574590399"
      ]
     },
     "execution_count": 31,
     "metadata": {},
     "output_type": "execute_result"
    }
   ],
   "source": [
    "def fifteen_percenters(engagement, impressions):\n",
    "    \"\"\"This function takes in the Total Engagement series as well as the Total Impressions series, finds each row's average, summing up \n",
    "    instances that exceed 15%, thus finding the proportion that do find the likelihood of getting at least 15% engagement rate.\"\"\"\n",
    "    i = 0\n",
    "    for a in range(0, data.shape[0]):\n",
    "        if engagement[a] / impressions[a] >= 0.15:\n",
    "            i += 1\n",
    "        else:\n",
    "            pass\n",
    "    return i / data.shape[0]\n",
    "    \n",
    "fifteen_percenters(data['Total Engagements'], data['Total Impressions'])"
   ]
  },
  {
   "cell_type": "markdown",
   "id": "f73827c6-23d7-4bb3-b7a0-07593a26a238",
   "metadata": {},
   "source": [
    "##### As shown by the output, the percentage of instances that see a 15% engagement rate or higher is ~6.5%"
   ]
  },
  {
   "cell_type": "code",
   "execution_count": 32,
   "id": "1f9aafef-feaf-4f57-95db-de75e6f17211",
   "metadata": {},
   "outputs": [
    {
     "data": {
      "text/html": [
       "<div>\n",
       "<style scoped>\n",
       "    .dataframe tbody tr th:only-of-type {\n",
       "        vertical-align: middle;\n",
       "    }\n",
       "\n",
       "    .dataframe tbody tr th {\n",
       "        vertical-align: top;\n",
       "    }\n",
       "\n",
       "    .dataframe thead th {\n",
       "        text-align: right;\n",
       "    }\n",
       "</style>\n",
       "<table border=\"1\" class=\"dataframe\">\n",
       "  <thead>\n",
       "    <tr style=\"text-align: right;\">\n",
       "      <th></th>\n",
       "      <th>Published Date</th>\n",
       "      <th>Account</th>\n",
       "      <th>Account Type</th>\n",
       "      <th>Campaign Name</th>\n",
       "      <th>Total Impressions</th>\n",
       "      <th>Total Engagements</th>\n",
       "      <th>Media Type</th>\n",
       "      <th>Year</th>\n",
       "      <th>Month</th>\n",
       "      <th>Day</th>\n",
       "      <th>Hour</th>\n",
       "      <th>Minute</th>\n",
       "      <th>Second</th>\n",
       "    </tr>\n",
       "  </thead>\n",
       "  <tbody>\n",
       "    <tr>\n",
       "      <th>0</th>\n",
       "      <td>2023-03-31T19:55:43.192000000</td>\n",
       "      <td>CSGO</td>\n",
       "      <td>TWITTER</td>\n",
       "      <td>N/A</td>\n",
       "      <td>0.0</td>\n",
       "      <td>0.0</td>\n",
       "      <td>Text</td>\n",
       "      <td>2023</td>\n",
       "      <td>03</td>\n",
       "      <td>31</td>\n",
       "      <td>19</td>\n",
       "      <td>55</td>\n",
       "      <td>43.192</td>\n",
       "    </tr>\n",
       "    <tr>\n",
       "      <th>1</th>\n",
       "      <td>2023-03-31T19:49:35.243000000</td>\n",
       "      <td>CSGO</td>\n",
       "      <td>TWITTER</td>\n",
       "      <td>N/A</td>\n",
       "      <td>0.0</td>\n",
       "      <td>0.0</td>\n",
       "      <td>Text</td>\n",
       "      <td>2023</td>\n",
       "      <td>03</td>\n",
       "      <td>31</td>\n",
       "      <td>19</td>\n",
       "      <td>49</td>\n",
       "      <td>35.243</td>\n",
       "    </tr>\n",
       "    <tr>\n",
       "      <th>2</th>\n",
       "      <td>2023-03-31T19:49:33.535000000</td>\n",
       "      <td>CSGO</td>\n",
       "      <td>TWITTER</td>\n",
       "      <td>N/A</td>\n",
       "      <td>0.0</td>\n",
       "      <td>0.0</td>\n",
       "      <td>Text</td>\n",
       "      <td>2023</td>\n",
       "      <td>03</td>\n",
       "      <td>31</td>\n",
       "      <td>19</td>\n",
       "      <td>49</td>\n",
       "      <td>33.535</td>\n",
       "    </tr>\n",
       "    <tr>\n",
       "      <th>3</th>\n",
       "      <td>2023-03-31T19:49:31.583000000</td>\n",
       "      <td>CSGO</td>\n",
       "      <td>TWITTER</td>\n",
       "      <td>N/A</td>\n",
       "      <td>0.0</td>\n",
       "      <td>0.0</td>\n",
       "      <td>Text</td>\n",
       "      <td>2023</td>\n",
       "      <td>03</td>\n",
       "      <td>31</td>\n",
       "      <td>19</td>\n",
       "      <td>49</td>\n",
       "      <td>31.583</td>\n",
       "    </tr>\n",
       "    <tr>\n",
       "      <th>4</th>\n",
       "      <td>2023-03-31T19:43:42.590000000</td>\n",
       "      <td>CSGO</td>\n",
       "      <td>TWITTER</td>\n",
       "      <td>Community Engagement</td>\n",
       "      <td>9517.0</td>\n",
       "      <td>1215.0</td>\n",
       "      <td>Video</td>\n",
       "      <td>2023</td>\n",
       "      <td>03</td>\n",
       "      <td>31</td>\n",
       "      <td>19</td>\n",
       "      <td>43</td>\n",
       "      <td>42.590</td>\n",
       "    </tr>\n",
       "  </tbody>\n",
       "</table>\n",
       "</div>"
      ],
      "text/plain": [
       "                  Published Date Account Account Type          Campaign Name  \\\n",
       "0  2023-03-31T19:55:43.192000000    CSGO      TWITTER                   N/A    \n",
       "1  2023-03-31T19:49:35.243000000    CSGO      TWITTER                   N/A    \n",
       "2  2023-03-31T19:49:33.535000000    CSGO      TWITTER                   N/A    \n",
       "3  2023-03-31T19:49:31.583000000    CSGO      TWITTER                   N/A    \n",
       "4  2023-03-31T19:43:42.590000000    CSGO      TWITTER  Community Engagement    \n",
       "\n",
       "   Total Impressions  Total Engagements Media Type  Year Month Day Hour  \\\n",
       "0                0.0                0.0       Text  2023    03  31   19   \n",
       "1                0.0                0.0       Text  2023    03  31   19   \n",
       "2                0.0                0.0       Text  2023    03  31   19   \n",
       "3                0.0                0.0       Text  2023    03  31   19   \n",
       "4             9517.0             1215.0      Video  2023    03  31   19   \n",
       "\n",
       "  Minute  Second  \n",
       "0     55  43.192  \n",
       "1     49  35.243  \n",
       "2     49  33.535  \n",
       "3     49  31.583  \n",
       "4     43  42.590  "
      ]
     },
     "execution_count": 32,
     "metadata": {},
     "output_type": "execute_result"
    }
   ],
   "source": [
    "data['Published Date']=data['Published Date'].values.astype(str) # convert Publish Date values to strings\n",
    "pattern = r'(\\d{4})-(\\d{2})-(\\d{2})\\S(\\d{2}):(\\d{2}):(\\d{2}\\.\\d{3})' # using Regex, finds and parses new string date\n",
    "data[['Year', 'Month', 'Day', 'Hour', 'Minute', 'Second']] = data['Published Date'].str.extract(pattern) # creates new columns for each unique value\n",
    "data.head()"
   ]
  },
  {
   "cell_type": "code",
   "execution_count": 44,
   "id": "6030f4d0-9627-4ac9-b1e0-4791def34a77",
   "metadata": {},
   "outputs": [
    {
     "data": {
      "text/plain": [
       "array(['19', '18', '17', '16', '15', '14', '13', '12', '11', '10', '09',\n",
       "       '08', '07', '23', '21', '20', '22', '06', '05', '04', '03', '00',\n",
       "       '02'], dtype=object)"
      ]
     },
     "execution_count": 44,
     "metadata": {},
     "output_type": "execute_result"
    }
   ],
   "source": [
    "data['Hour'].unique()"
   ]
  },
  {
   "cell_type": "code",
   "execution_count": 33,
   "id": "e9b8d293-7aaa-4f8e-a208-2857b66fc51d",
   "metadata": {},
   "outputs": [
    {
     "data": {
      "text/plain": [
       "array(['31', '30', '29', '28', '27', '26', '25', '24', '23', '22', '21',\n",
       "       '20', '19', '18', '17', '16', '15', '14', '13', '12', '11', '10',\n",
       "       '09', '08', '07', '06', '05', '04', '03', '02', '01'], dtype=object)"
      ]
     },
     "execution_count": 33,
     "metadata": {},
     "output_type": "execute_result"
    }
   ],
   "source": [
    "data['Day'].unique()"
   ]
  },
  {
   "cell_type": "code",
   "execution_count": 34,
   "id": "1a9f4d1e-6a60-425b-85fb-6f94455b307e",
   "metadata": {},
   "outputs": [],
   "source": [
    "# querying dataframes to only include a week's worth of data for each month included in dataset\n",
    "jan_one_week_data = data.loc[(data['Day']>'24') & (data['Month']=='01')]\n",
    "feb_one_week_data = data.loc[(data['Day']<'08') & (data['Month']=='02')]\n",
    "mar_one_week_data = data.loc[(data['Day']>'24') & (data['Month']=='03')]"
   ]
  },
  {
   "cell_type": "code",
   "execution_count": 35,
   "id": "737ccb05-ad40-444e-a4a8-9f8e79c7aa6b",
   "metadata": {},
   "outputs": [],
   "source": [
    "# remaps date \"numeric\" values to respective days for month of jan\n",
    "jan_dict = {\n",
    "    '25': \"Wed\",\n",
    "    '26': \"Thurs\",\n",
    "    '27': \"Fri\",\n",
    "    '28': \"Sat\",\n",
    "    '29': \"Sun\",\n",
    "    '30': \"Mon\",\n",
    "    '31': \"Tues\"\n",
    "}\n",
    "\n",
    "jan_one_week_data = jan_one_week_data.replace({'Day': jan_dict})\n",
    "# jan_one_week_data.head()"
   ]
  },
  {
   "cell_type": "code",
   "execution_count": 36,
   "id": "5c3058e2-8471-420e-b7ab-47304f4306ca",
   "metadata": {},
   "outputs": [],
   "source": [
    "# remaps date \"numeric\" values to respective days for month of feb\n",
    "feb_dict = {\n",
    "    '01': \"Wed\",\n",
    "    '02': \"Thurs\",\n",
    "    '03': \"Fri\",\n",
    "    '04': \"Sat\",\n",
    "    '05': \"Sun\",\n",
    "    '06': \"Mon\",\n",
    "    '07': \"Tues\"\n",
    "}\n",
    "\n",
    "feb_one_week_data = feb_one_week_data.replace({'Day': feb_dict})"
   ]
  },
  {
   "cell_type": "code",
   "execution_count": 37,
   "id": "f8f4a63d-78aa-449d-92fe-ff6d8974340d",
   "metadata": {},
   "outputs": [],
   "source": [
    "# remaps date \"numeric\" values to respective days for month of Mar\n",
    "mar_dict = {\n",
    "    '25': \"Sat\",\n",
    "    '26': \"Sun\",\n",
    "    '27': \"Mon\",\n",
    "    '28': \"Tues\",\n",
    "    '29': \"Wed\",\n",
    "    '30': \"Thurs\",\n",
    "    '31': \"Fri\"\n",
    "}\n",
    "\n",
    "mar_one_week_data = mar_one_week_data.replace({'Day': mar_dict})"
   ]
  },
  {
   "cell_type": "code",
   "execution_count": 38,
   "id": "4e5bcef6-4ac2-45d5-b5af-ee464d9218ef",
   "metadata": {},
   "outputs": [
    {
     "data": {
      "text/html": [
       "<div>\n",
       "<style scoped>\n",
       "    .dataframe tbody tr th:only-of-type {\n",
       "        vertical-align: middle;\n",
       "    }\n",
       "\n",
       "    .dataframe tbody tr th {\n",
       "        vertical-align: top;\n",
       "    }\n",
       "\n",
       "    .dataframe thead th {\n",
       "        text-align: right;\n",
       "    }\n",
       "</style>\n",
       "<table border=\"1\" class=\"dataframe\">\n",
       "  <thead>\n",
       "    <tr style=\"text-align: right;\">\n",
       "      <th></th>\n",
       "      <th>Day</th>\n",
       "      <th>Total Impressions</th>\n",
       "      <th>Total Engagements</th>\n",
       "    </tr>\n",
       "  </thead>\n",
       "  <tbody>\n",
       "    <tr>\n",
       "      <th>0</th>\n",
       "      <td>Fri</td>\n",
       "      <td>359343.0</td>\n",
       "      <td>20680.0</td>\n",
       "    </tr>\n",
       "    <tr>\n",
       "      <th>1</th>\n",
       "      <td>Mon</td>\n",
       "      <td>95784.0</td>\n",
       "      <td>4933.0</td>\n",
       "    </tr>\n",
       "    <tr>\n",
       "      <th>2</th>\n",
       "      <td>Sat</td>\n",
       "      <td>69285.0</td>\n",
       "      <td>843.0</td>\n",
       "    </tr>\n",
       "    <tr>\n",
       "      <th>3</th>\n",
       "      <td>Sun</td>\n",
       "      <td>627687.0</td>\n",
       "      <td>119741.0</td>\n",
       "    </tr>\n",
       "    <tr>\n",
       "      <th>4</th>\n",
       "      <td>Thurs</td>\n",
       "      <td>1148441.0</td>\n",
       "      <td>89099.0</td>\n",
       "    </tr>\n",
       "    <tr>\n",
       "      <th>5</th>\n",
       "      <td>Tues</td>\n",
       "      <td>17412.0</td>\n",
       "      <td>821.0</td>\n",
       "    </tr>\n",
       "    <tr>\n",
       "      <th>6</th>\n",
       "      <td>Wed</td>\n",
       "      <td>553167.0</td>\n",
       "      <td>58314.0</td>\n",
       "    </tr>\n",
       "  </tbody>\n",
       "</table>\n",
       "</div>"
      ],
      "text/plain": [
       "     Day  Total Impressions  Total Engagements\n",
       "0    Fri           359343.0            20680.0\n",
       "1    Mon            95784.0             4933.0\n",
       "2    Sat            69285.0              843.0\n",
       "3    Sun           627687.0           119741.0\n",
       "4  Thurs          1148441.0            89099.0\n",
       "5   Tues            17412.0              821.0\n",
       "6    Wed           553167.0            58314.0"
      ]
     },
     "execution_count": 38,
     "metadata": {},
     "output_type": "execute_result"
    }
   ],
   "source": [
    "jan_one_week_data = jan_one_week_data.groupby('Day').sum().reset_index()\n",
    "jan_one_week_data.head(7)"
   ]
  },
  {
   "cell_type": "code",
   "execution_count": 39,
   "id": "9e330802-34e9-4b5d-854f-7fd3831a57b8",
   "metadata": {},
   "outputs": [
    {
     "data": {
      "text/html": [
       "<div>\n",
       "<style scoped>\n",
       "    .dataframe tbody tr th:only-of-type {\n",
       "        vertical-align: middle;\n",
       "    }\n",
       "\n",
       "    .dataframe tbody tr th {\n",
       "        vertical-align: top;\n",
       "    }\n",
       "\n",
       "    .dataframe thead th {\n",
       "        text-align: right;\n",
       "    }\n",
       "</style>\n",
       "<table border=\"1\" class=\"dataframe\">\n",
       "  <thead>\n",
       "    <tr style=\"text-align: right;\">\n",
       "      <th></th>\n",
       "      <th>Day</th>\n",
       "      <th>Total Impressions</th>\n",
       "      <th>Total Engagements</th>\n",
       "    </tr>\n",
       "  </thead>\n",
       "  <tbody>\n",
       "    <tr>\n",
       "      <th>0</th>\n",
       "      <td>Fri</td>\n",
       "      <td>459991.0</td>\n",
       "      <td>8712.0</td>\n",
       "    </tr>\n",
       "    <tr>\n",
       "      <th>1</th>\n",
       "      <td>Mon</td>\n",
       "      <td>131642.0</td>\n",
       "      <td>3632.0</td>\n",
       "    </tr>\n",
       "    <tr>\n",
       "      <th>2</th>\n",
       "      <td>Sat</td>\n",
       "      <td>84439.0</td>\n",
       "      <td>1768.0</td>\n",
       "    </tr>\n",
       "    <tr>\n",
       "      <th>3</th>\n",
       "      <td>Sun</td>\n",
       "      <td>15947.0</td>\n",
       "      <td>249.0</td>\n",
       "    </tr>\n",
       "    <tr>\n",
       "      <th>4</th>\n",
       "      <td>Thurs</td>\n",
       "      <td>305970.0</td>\n",
       "      <td>9250.0</td>\n",
       "    </tr>\n",
       "    <tr>\n",
       "      <th>5</th>\n",
       "      <td>Tues</td>\n",
       "      <td>51621.0</td>\n",
       "      <td>1307.0</td>\n",
       "    </tr>\n",
       "    <tr>\n",
       "      <th>6</th>\n",
       "      <td>Wed</td>\n",
       "      <td>247170.0</td>\n",
       "      <td>4346.0</td>\n",
       "    </tr>\n",
       "  </tbody>\n",
       "</table>\n",
       "</div>"
      ],
      "text/plain": [
       "     Day  Total Impressions  Total Engagements\n",
       "0    Fri           459991.0             8712.0\n",
       "1    Mon           131642.0             3632.0\n",
       "2    Sat            84439.0             1768.0\n",
       "3    Sun            15947.0              249.0\n",
       "4  Thurs           305970.0             9250.0\n",
       "5   Tues            51621.0             1307.0\n",
       "6    Wed           247170.0             4346.0"
      ]
     },
     "execution_count": 39,
     "metadata": {},
     "output_type": "execute_result"
    }
   ],
   "source": [
    "feb_one_week_data = feb_one_week_data.groupby('Day').sum().reset_index()\n",
    "feb_one_week_data.head(7)"
   ]
  },
  {
   "cell_type": "code",
   "execution_count": 40,
   "id": "e88f86de-f01f-4817-9b18-0a8821e76de7",
   "metadata": {},
   "outputs": [
    {
     "data": {
      "text/html": [
       "<div>\n",
       "<style scoped>\n",
       "    .dataframe tbody tr th:only-of-type {\n",
       "        vertical-align: middle;\n",
       "    }\n",
       "\n",
       "    .dataframe tbody tr th {\n",
       "        vertical-align: top;\n",
       "    }\n",
       "\n",
       "    .dataframe thead th {\n",
       "        text-align: right;\n",
       "    }\n",
       "</style>\n",
       "<table border=\"1\" class=\"dataframe\">\n",
       "  <thead>\n",
       "    <tr style=\"text-align: right;\">\n",
       "      <th></th>\n",
       "      <th>Day</th>\n",
       "      <th>Total Impressions</th>\n",
       "      <th>Total Engagements</th>\n",
       "    </tr>\n",
       "  </thead>\n",
       "  <tbody>\n",
       "    <tr>\n",
       "      <th>0</th>\n",
       "      <td>Fri</td>\n",
       "      <td>482494.0</td>\n",
       "      <td>40122.0</td>\n",
       "    </tr>\n",
       "    <tr>\n",
       "      <th>1</th>\n",
       "      <td>Mon</td>\n",
       "      <td>200152.0</td>\n",
       "      <td>3197.0</td>\n",
       "    </tr>\n",
       "    <tr>\n",
       "      <th>2</th>\n",
       "      <td>Sat</td>\n",
       "      <td>252579.0</td>\n",
       "      <td>5502.0</td>\n",
       "    </tr>\n",
       "    <tr>\n",
       "      <th>3</th>\n",
       "      <td>Sun</td>\n",
       "      <td>807236.0</td>\n",
       "      <td>56199.0</td>\n",
       "    </tr>\n",
       "    <tr>\n",
       "      <th>4</th>\n",
       "      <td>Thurs</td>\n",
       "      <td>725855.0</td>\n",
       "      <td>65810.0</td>\n",
       "    </tr>\n",
       "    <tr>\n",
       "      <th>5</th>\n",
       "      <td>Tues</td>\n",
       "      <td>295752.0</td>\n",
       "      <td>5928.0</td>\n",
       "    </tr>\n",
       "    <tr>\n",
       "      <th>6</th>\n",
       "      <td>Wed</td>\n",
       "      <td>733297.0</td>\n",
       "      <td>43483.0</td>\n",
       "    </tr>\n",
       "  </tbody>\n",
       "</table>\n",
       "</div>"
      ],
      "text/plain": [
       "     Day  Total Impressions  Total Engagements\n",
       "0    Fri           482494.0            40122.0\n",
       "1    Mon           200152.0             3197.0\n",
       "2    Sat           252579.0             5502.0\n",
       "3    Sun           807236.0            56199.0\n",
       "4  Thurs           725855.0            65810.0\n",
       "5   Tues           295752.0             5928.0\n",
       "6    Wed           733297.0            43483.0"
      ]
     },
     "execution_count": 40,
     "metadata": {},
     "output_type": "execute_result"
    }
   ],
   "source": [
    "mar_one_week_data = mar_one_week_data.groupby('Day').sum().reset_index()\n",
    "mar_one_week_data.head(7)"
   ]
  },
  {
   "cell_type": "code",
   "execution_count": 41,
   "id": "c325ce24-cc34-4a5f-a9a7-8cd33177c77d",
   "metadata": {},
   "outputs": [
    {
     "data": {
      "text/html": [
       "<div>\n",
       "<style scoped>\n",
       "    .dataframe tbody tr th:only-of-type {\n",
       "        vertical-align: middle;\n",
       "    }\n",
       "\n",
       "    .dataframe tbody tr th {\n",
       "        vertical-align: top;\n",
       "    }\n",
       "\n",
       "    .dataframe thead th {\n",
       "        text-align: right;\n",
       "    }\n",
       "</style>\n",
       "<table border=\"1\" class=\"dataframe\">\n",
       "  <thead>\n",
       "    <tr style=\"text-align: right;\">\n",
       "      <th></th>\n",
       "      <th>Day</th>\n",
       "      <th>Total Impressions</th>\n",
       "      <th>Total Engagements</th>\n",
       "      <th>Day Averages</th>\n",
       "    </tr>\n",
       "  </thead>\n",
       "  <tbody>\n",
       "    <tr>\n",
       "      <th>0</th>\n",
       "      <td>Fri</td>\n",
       "      <td>359343.0</td>\n",
       "      <td>20680.0</td>\n",
       "      <td>0.057549</td>\n",
       "    </tr>\n",
       "    <tr>\n",
       "      <th>1</th>\n",
       "      <td>Mon</td>\n",
       "      <td>95784.0</td>\n",
       "      <td>4933.0</td>\n",
       "      <td>0.051501</td>\n",
       "    </tr>\n",
       "    <tr>\n",
       "      <th>2</th>\n",
       "      <td>Sat</td>\n",
       "      <td>69285.0</td>\n",
       "      <td>843.0</td>\n",
       "      <td>0.012167</td>\n",
       "    </tr>\n",
       "    <tr>\n",
       "      <th>3</th>\n",
       "      <td>Sun</td>\n",
       "      <td>627687.0</td>\n",
       "      <td>119741.0</td>\n",
       "      <td>0.190765</td>\n",
       "    </tr>\n",
       "    <tr>\n",
       "      <th>4</th>\n",
       "      <td>Thurs</td>\n",
       "      <td>1148441.0</td>\n",
       "      <td>89099.0</td>\n",
       "      <td>0.077583</td>\n",
       "    </tr>\n",
       "    <tr>\n",
       "      <th>5</th>\n",
       "      <td>Tues</td>\n",
       "      <td>17412.0</td>\n",
       "      <td>821.0</td>\n",
       "      <td>0.047151</td>\n",
       "    </tr>\n",
       "    <tr>\n",
       "      <th>6</th>\n",
       "      <td>Wed</td>\n",
       "      <td>553167.0</td>\n",
       "      <td>58314.0</td>\n",
       "      <td>0.105418</td>\n",
       "    </tr>\n",
       "  </tbody>\n",
       "</table>\n",
       "</div>"
      ],
      "text/plain": [
       "     Day  Total Impressions  Total Engagements  Day Averages\n",
       "0    Fri           359343.0            20680.0      0.057549\n",
       "1    Mon            95784.0             4933.0      0.051501\n",
       "2    Sat            69285.0              843.0      0.012167\n",
       "3    Sun           627687.0           119741.0      0.190765\n",
       "4  Thurs          1148441.0            89099.0      0.077583\n",
       "5   Tues            17412.0              821.0      0.047151\n",
       "6    Wed           553167.0            58314.0      0.105418"
      ]
     },
     "execution_count": 41,
     "metadata": {},
     "output_type": "execute_result"
    }
   ],
   "source": [
    "# finding averages for each day of the week using list comprhension\n",
    "jan_one_week_data['Day Averages']=[x / y for x, y in zip(jan_one_week_data['Total Engagements'], jan_one_week_data['Total Impressions'])]\n",
    "jan_one_week_data"
   ]
  },
  {
   "cell_type": "code",
   "execution_count": 42,
   "id": "7be44a85-818e-4c74-9d0f-c580d06b07f8",
   "metadata": {},
   "outputs": [
    {
     "data": {
      "text/html": [
       "<div>\n",
       "<style scoped>\n",
       "    .dataframe tbody tr th:only-of-type {\n",
       "        vertical-align: middle;\n",
       "    }\n",
       "\n",
       "    .dataframe tbody tr th {\n",
       "        vertical-align: top;\n",
       "    }\n",
       "\n",
       "    .dataframe thead th {\n",
       "        text-align: right;\n",
       "    }\n",
       "</style>\n",
       "<table border=\"1\" class=\"dataframe\">\n",
       "  <thead>\n",
       "    <tr style=\"text-align: right;\">\n",
       "      <th></th>\n",
       "      <th>Day</th>\n",
       "      <th>Total Impressions</th>\n",
       "      <th>Total Engagements</th>\n",
       "      <th>Day Averages</th>\n",
       "    </tr>\n",
       "  </thead>\n",
       "  <tbody>\n",
       "    <tr>\n",
       "      <th>0</th>\n",
       "      <td>Fri</td>\n",
       "      <td>459991.0</td>\n",
       "      <td>8712.0</td>\n",
       "      <td>0.018940</td>\n",
       "    </tr>\n",
       "    <tr>\n",
       "      <th>1</th>\n",
       "      <td>Mon</td>\n",
       "      <td>131642.0</td>\n",
       "      <td>3632.0</td>\n",
       "      <td>0.027590</td>\n",
       "    </tr>\n",
       "    <tr>\n",
       "      <th>2</th>\n",
       "      <td>Sat</td>\n",
       "      <td>84439.0</td>\n",
       "      <td>1768.0</td>\n",
       "      <td>0.020938</td>\n",
       "    </tr>\n",
       "    <tr>\n",
       "      <th>3</th>\n",
       "      <td>Sun</td>\n",
       "      <td>15947.0</td>\n",
       "      <td>249.0</td>\n",
       "      <td>0.015614</td>\n",
       "    </tr>\n",
       "    <tr>\n",
       "      <th>4</th>\n",
       "      <td>Thurs</td>\n",
       "      <td>305970.0</td>\n",
       "      <td>9250.0</td>\n",
       "      <td>0.030232</td>\n",
       "    </tr>\n",
       "    <tr>\n",
       "      <th>5</th>\n",
       "      <td>Tues</td>\n",
       "      <td>51621.0</td>\n",
       "      <td>1307.0</td>\n",
       "      <td>0.025319</td>\n",
       "    </tr>\n",
       "    <tr>\n",
       "      <th>6</th>\n",
       "      <td>Wed</td>\n",
       "      <td>247170.0</td>\n",
       "      <td>4346.0</td>\n",
       "      <td>0.017583</td>\n",
       "    </tr>\n",
       "  </tbody>\n",
       "</table>\n",
       "</div>"
      ],
      "text/plain": [
       "     Day  Total Impressions  Total Engagements  Day Averages\n",
       "0    Fri           459991.0             8712.0      0.018940\n",
       "1    Mon           131642.0             3632.0      0.027590\n",
       "2    Sat            84439.0             1768.0      0.020938\n",
       "3    Sun            15947.0              249.0      0.015614\n",
       "4  Thurs           305970.0             9250.0      0.030232\n",
       "5   Tues            51621.0             1307.0      0.025319\n",
       "6    Wed           247170.0             4346.0      0.017583"
      ]
     },
     "execution_count": 42,
     "metadata": {},
     "output_type": "execute_result"
    }
   ],
   "source": [
    "feb_one_week_data['Day Averages']=[x / y for x, y in zip(feb_one_week_data['Total Engagements'], feb_one_week_data['Total Impressions'])]\n",
    "feb_one_week_data"
   ]
  },
  {
   "cell_type": "code",
   "execution_count": 43,
   "id": "7b210994-b26a-46e5-9c9a-101731219c05",
   "metadata": {},
   "outputs": [
    {
     "data": {
      "text/html": [
       "<div>\n",
       "<style scoped>\n",
       "    .dataframe tbody tr th:only-of-type {\n",
       "        vertical-align: middle;\n",
       "    }\n",
       "\n",
       "    .dataframe tbody tr th {\n",
       "        vertical-align: top;\n",
       "    }\n",
       "\n",
       "    .dataframe thead th {\n",
       "        text-align: right;\n",
       "    }\n",
       "</style>\n",
       "<table border=\"1\" class=\"dataframe\">\n",
       "  <thead>\n",
       "    <tr style=\"text-align: right;\">\n",
       "      <th></th>\n",
       "      <th>Day</th>\n",
       "      <th>Total Impressions</th>\n",
       "      <th>Total Engagements</th>\n",
       "      <th>Day Averages</th>\n",
       "    </tr>\n",
       "  </thead>\n",
       "  <tbody>\n",
       "    <tr>\n",
       "      <th>0</th>\n",
       "      <td>Fri</td>\n",
       "      <td>482494.0</td>\n",
       "      <td>40122.0</td>\n",
       "      <td>0.083155</td>\n",
       "    </tr>\n",
       "    <tr>\n",
       "      <th>1</th>\n",
       "      <td>Mon</td>\n",
       "      <td>200152.0</td>\n",
       "      <td>3197.0</td>\n",
       "      <td>0.015973</td>\n",
       "    </tr>\n",
       "    <tr>\n",
       "      <th>2</th>\n",
       "      <td>Sat</td>\n",
       "      <td>252579.0</td>\n",
       "      <td>5502.0</td>\n",
       "      <td>0.021783</td>\n",
       "    </tr>\n",
       "    <tr>\n",
       "      <th>3</th>\n",
       "      <td>Sun</td>\n",
       "      <td>807236.0</td>\n",
       "      <td>56199.0</td>\n",
       "      <td>0.069619</td>\n",
       "    </tr>\n",
       "    <tr>\n",
       "      <th>4</th>\n",
       "      <td>Thurs</td>\n",
       "      <td>725855.0</td>\n",
       "      <td>65810.0</td>\n",
       "      <td>0.090665</td>\n",
       "    </tr>\n",
       "    <tr>\n",
       "      <th>5</th>\n",
       "      <td>Tues</td>\n",
       "      <td>295752.0</td>\n",
       "      <td>5928.0</td>\n",
       "      <td>0.020044</td>\n",
       "    </tr>\n",
       "    <tr>\n",
       "      <th>6</th>\n",
       "      <td>Wed</td>\n",
       "      <td>733297.0</td>\n",
       "      <td>43483.0</td>\n",
       "      <td>0.059298</td>\n",
       "    </tr>\n",
       "  </tbody>\n",
       "</table>\n",
       "</div>"
      ],
      "text/plain": [
       "     Day  Total Impressions  Total Engagements  Day Averages\n",
       "0    Fri           482494.0            40122.0      0.083155\n",
       "1    Mon           200152.0             3197.0      0.015973\n",
       "2    Sat           252579.0             5502.0      0.021783\n",
       "3    Sun           807236.0            56199.0      0.069619\n",
       "4  Thurs           725855.0            65810.0      0.090665\n",
       "5   Tues           295752.0             5928.0      0.020044\n",
       "6    Wed           733297.0            43483.0      0.059298"
      ]
     },
     "execution_count": 43,
     "metadata": {},
     "output_type": "execute_result"
    }
   ],
   "source": [
    "mar_one_week_data['Day Averages']=[x / y for x, y in zip(mar_one_week_data['Total Engagements'], mar_one_week_data['Total Impressions'])]\n",
    "mar_one_week_data"
   ]
  },
  {
   "cell_type": "code",
   "execution_count": null,
   "id": "2bb6c0a8-db71-4248-97af-44fb863fa71a",
   "metadata": {},
   "outputs": [],
   "source": []
  }
 ],
 "metadata": {
  "kernelspec": {
   "display_name": "Python 3 (ipykernel)",
   "language": "python",
   "name": "python3"
  },
  "language_info": {
   "codemirror_mode": {
    "name": "ipython",
    "version": 3
   },
   "file_extension": ".py",
   "mimetype": "text/x-python",
   "name": "python",
   "nbconvert_exporter": "python",
   "pygments_lexer": "ipython3",
   "version": "3.9.12"
  }
 },
 "nbformat": 4,
 "nbformat_minor": 5
}
